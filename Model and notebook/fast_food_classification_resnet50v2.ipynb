{
  "metadata": {
    "kernelspec": {
      "language": "python",
      "display_name": "Python 3",
      "name": "python3"
    },
    "language_info": {
      "pygments_lexer": "ipython3",
      "nbconvert_exporter": "python",
      "version": "3.6.4",
      "file_extension": ".py",
      "codemirror_mode": {
        "name": "ipython",
        "version": 3
      },
      "name": "python",
      "mimetype": "text/x-python"
    },
    "colab": {
      "provenance": []
    }
  },
  "nbformat_minor": 0,
  "nbformat": 4,
  "cells": [
    {
      "cell_type": "markdown",
      "source": [
        "**<h1>Introduction</h1>**\n",
        "<hr>"
      ],
      "metadata": {
        "id": "T6XrwGg6FO8w"
      }
    },
    {
      "cell_type": "markdown",
      "source": [
        "**About Dataset**\n",
        "---\n",
        "\n",
        "This is **Fast Food Classification** data set containing images of **5 different** types of **fast food**. Each directory represents a **class**, and **each class** represents a **food type**. The Classes are $:$\n",
        "* **Burger**\n",
        "* **Donut**\n",
        "* **Hot Dog**\n",
        "* **Pizza**\n",
        "* **Sandwich**\n",
        "\n",
        "The data set is **divided into 3 parts**, the **Tensorflow records**, **Training data set** and **Validation data set**. \n",
        "* The tensorflow records directory is further **divided into 2 parts**, the **training images** and the **validation images**.These images are **resized to 256 by 256 pixels**. No other augmentation is applied. While loading the tensorflow records files, **you can apply any augmentation you want**.\n",
        " * **Training Images** : Contains **7,500** training images, with each class having **1,500 images**.\n",
        " * **Validation Images** : Contains **2,500** validation images, with each class having **500 images**.\n",
        "\n",
        "\n",
        "* Unlike the **Tensorflow records data**, the **Training data and validation data** contains **direct images**. These are raw images. So **any kind of augmentation**, and specially **resizing**, can be applied on them. \n",
        " * **Training Data** : This directory contains **5 subdirectories**. Each **directory representing a class**. Each **class have 1,500 training images**.\n",
        " * **Validation Data** : This directory also contains **5 subdirectories**. Each **directory representing a class**. Each **class have 500 images for monitoring model's performance**.\n",
        "\n",
        "\n",
        "**About Notebook**\n",
        "---\n",
        "\n",
        "This notebook is **further divided into multiple sections** : \n",
        "1. **Imports**\n",
        " * Contains all the **modules** used in the **notebook**.\n",
        "\n",
        "2. **Data Distribution**\n",
        " * Understanding the **data/class distribution.**\n",
        "\n",
        "3. **Loading Data**\n",
        " * Loading the **fast food classification data** using **keras ImageDataGenerator**.\n",
        "\n",
        "4. **Data Visulaization**\n",
        " * **Visualizing** the loaded data set to **better understand the problem and data set**.\n",
        "\n",
        "5. **TF Records**\n",
        " * Loading the **tensor flow records files and visualizing the data set.**\n",
        "\n",
        "6. **Model Architecture**\n",
        " * Creating a **model architecture** that can perfectly fit this **data set**.\n",
        "\n",
        "7. **Predictions**\n",
        " * After **creating and tuning the model**, it's time to look at the **model's predictions**."
      ],
      "metadata": {
        "id": "uAtUh6r3FO8z"
      }
    },
    {
      "cell_type": "markdown",
      "source": [
        "# **Imports**"
      ],
      "metadata": {
        "id": "0wjoMaPKFO80"
      }
    },
    {
      "cell_type": "markdown",
      "source": [
        "Below are all the **imports** that are required in the **notebook**."
      ],
      "metadata": {
        "id": "tDN0zH3eFO80"
      }
    },
    {
      "cell_type": "code",
      "source": [
        "# Common\n",
        "import os\n",
        "import numpy as np\n",
        "import tensorflow as tf\n",
        "\n",
        "# TFRecords Loading\n",
        "from tensorflow import io\n",
        "from tensorflow import data as tfd\n",
        "from tensorflow import train as tft\n",
        "from tensorflow import image as tfi\n",
        "\n",
        "# Data Loading \n",
        "from keras.preprocessing.image import ImageDataGenerator  as IDG\n",
        "\n",
        "# Data Visualization\n",
        "import plotly.express as px\n",
        "import matplotlib.pyplot as plt\n",
        "\n",
        "# Models \n",
        "from keras.layers import Dense, GlobalAveragePooling2D as GAP, Dropout\n",
        "from keras.models import load_model, Sequential\n",
        "\n",
        "# Pre Trained Models\n",
        "from tensorflow.keras.applications import ResNet50V2, InceptionV3, Xception, ResNet50, ResNet152V2\n",
        "\n",
        "# Callbacks \n",
        "from keras.callbacks import EarlyStopping, ModelCheckpoint\n",
        "\n",
        "!pip install tensorflow-gpu==2.9\n",
        "import requests\n",
        "import tensorflow as tf\n",
        "import matplotlib.image as img\n",
        "%matplotlib inline\n",
        "import numpy as np\n",
        "from collections import defaultdict\n",
        "import collections\n",
        "from shutil import copy\n",
        "from shutil import copytree, rmtree\n",
        "\n",
        "import matplotlib.pyplot as plt\n",
        "import numpy as np\n",
        "import os\n",
        "import random\n",
        "import cv2\n",
        "from PIL import Image\n",
        "import scipy"
      ],
      "metadata": {
        "execution": {
          "iopub.status.busy": "2022-11-13T15:25:51.99472Z",
          "iopub.execute_input": "2022-11-13T15:25:51.995194Z",
          "iopub.status.idle": "2022-11-13T15:25:52.008353Z",
          "shell.execute_reply.started": "2022-11-13T15:25:51.995156Z",
          "shell.execute_reply": "2022-11-13T15:25:52.007181Z"
        },
        "trusted": true,
        "id": "l11LMwdrFO81",
        "colab": {
          "base_uri": "https://localhost:8080/"
        },
        "outputId": "a174c272-daa3-4869-a1fe-236a64117fa2"
      },
      "execution_count": 1,
      "outputs": [
        {
          "output_type": "stream",
          "name": "stdout",
          "text": [
            "Looking in indexes: https://pypi.org/simple, https://us-python.pkg.dev/colab-wheels/public/simple/\n",
            "Collecting tensorflow-gpu==2.9\n",
            "  Downloading tensorflow_gpu-2.9.0-cp39-cp39-manylinux_2_17_x86_64.manylinux2014_x86_64.whl (511.7 MB)\n",
            "\u001b[2K     \u001b[90m━━━━━━━━━━━━━━━━━━━━━━━━━━━━━━━━━━━━━━━\u001b[0m \u001b[32m511.7/511.7 MB\u001b[0m \u001b[31m3.4 MB/s\u001b[0m eta \u001b[36m0:00:00\u001b[0m\n",
            "\u001b[?25hRequirement already satisfied: setuptools in /usr/local/lib/python3.9/dist-packages (from tensorflow-gpu==2.9) (63.4.3)\n",
            "Requirement already satisfied: protobuf>=3.9.2 in /usr/local/lib/python3.9/dist-packages (from tensorflow-gpu==2.9) (3.19.6)\n",
            "Collecting tensorflow-estimator<2.10.0,>=2.9.0rc0\n",
            "  Downloading tensorflow_estimator-2.9.0-py2.py3-none-any.whl (438 kB)\n",
            "\u001b[2K     \u001b[90m━━━━━━━━━━━━━━━━━━━━━━━━━━━━━━━━━━━━━━\u001b[0m \u001b[32m438.7/438.7 KB\u001b[0m \u001b[31m27.3 MB/s\u001b[0m eta \u001b[36m0:00:00\u001b[0m\n",
            "\u001b[?25hCollecting tensorboard<2.10,>=2.9\n",
            "  Downloading tensorboard-2.9.1-py3-none-any.whl (5.8 MB)\n",
            "\u001b[2K     \u001b[90m━━━━━━━━━━━━━━━━━━━━━━━━━━━━━━━━━━━━━━━━\u001b[0m \u001b[32m5.8/5.8 MB\u001b[0m \u001b[31m78.0 MB/s\u001b[0m eta \u001b[36m0:00:00\u001b[0m\n",
            "\u001b[?25hRequirement already satisfied: tensorflow-io-gcs-filesystem>=0.23.1 in /usr/local/lib/python3.9/dist-packages (from tensorflow-gpu==2.9) (0.31.0)\n",
            "Requirement already satisfied: six>=1.12.0 in /usr/local/lib/python3.9/dist-packages (from tensorflow-gpu==2.9) (1.15.0)\n",
            "Collecting keras-preprocessing>=1.1.1\n",
            "  Downloading Keras_Preprocessing-1.1.2-py2.py3-none-any.whl (42 kB)\n",
            "\u001b[2K     \u001b[90m━━━━━━━━━━━━━━━━━━━━━━━━━━━━━━━━━━━━━━━━\u001b[0m \u001b[32m42.6/42.6 KB\u001b[0m \u001b[31m4.5 MB/s\u001b[0m eta \u001b[36m0:00:00\u001b[0m\n",
            "\u001b[?25hRequirement already satisfied: google-pasta>=0.1.1 in /usr/local/lib/python3.9/dist-packages (from tensorflow-gpu==2.9) (0.2.0)\n",
            "Requirement already satisfied: typing-extensions>=3.6.6 in /usr/local/lib/python3.9/dist-packages (from tensorflow-gpu==2.9) (4.5.0)\n",
            "Requirement already satisfied: grpcio<2.0,>=1.24.3 in /usr/local/lib/python3.9/dist-packages (from tensorflow-gpu==2.9) (1.51.3)\n",
            "Requirement already satisfied: gast<=0.4.0,>=0.2.1 in /usr/local/lib/python3.9/dist-packages (from tensorflow-gpu==2.9) (0.4.0)\n",
            "Requirement already satisfied: h5py>=2.9.0 in /usr/local/lib/python3.9/dist-packages (from tensorflow-gpu==2.9) (3.8.0)\n",
            "Requirement already satisfied: numpy>=1.20 in /usr/local/lib/python3.9/dist-packages (from tensorflow-gpu==2.9) (1.22.4)\n",
            "Requirement already satisfied: astunparse>=1.6.0 in /usr/local/lib/python3.9/dist-packages (from tensorflow-gpu==2.9) (1.6.3)\n",
            "Requirement already satisfied: opt-einsum>=2.3.2 in /usr/local/lib/python3.9/dist-packages (from tensorflow-gpu==2.9) (3.3.0)\n",
            "Collecting flatbuffers<2,>=1.12\n",
            "  Downloading flatbuffers-1.12-py2.py3-none-any.whl (15 kB)\n",
            "Requirement already satisfied: termcolor>=1.1.0 in /usr/local/lib/python3.9/dist-packages (from tensorflow-gpu==2.9) (2.2.0)\n",
            "Requirement already satisfied: packaging in /usr/local/lib/python3.9/dist-packages (from tensorflow-gpu==2.9) (23.0)\n",
            "Collecting keras<2.10.0,>=2.9.0rc0\n",
            "  Downloading keras-2.9.0-py2.py3-none-any.whl (1.6 MB)\n",
            "\u001b[2K     \u001b[90m━━━━━━━━━━━━━━━━━━━━━━━━━━━━━━━━━━━━━━━━\u001b[0m \u001b[32m1.6/1.6 MB\u001b[0m \u001b[31m52.9 MB/s\u001b[0m eta \u001b[36m0:00:00\u001b[0m\n",
            "\u001b[?25hRequirement already satisfied: wrapt>=1.11.0 in /usr/local/lib/python3.9/dist-packages (from tensorflow-gpu==2.9) (1.15.0)\n",
            "Requirement already satisfied: libclang>=13.0.0 in /usr/local/lib/python3.9/dist-packages (from tensorflow-gpu==2.9) (15.0.6.1)\n",
            "Requirement already satisfied: absl-py>=1.0.0 in /usr/local/lib/python3.9/dist-packages (from tensorflow-gpu==2.9) (1.4.0)\n",
            "Requirement already satisfied: wheel<1.0,>=0.23.0 in /usr/local/lib/python3.9/dist-packages (from astunparse>=1.6.0->tensorflow-gpu==2.9) (0.40.0)\n",
            "Requirement already satisfied: google-auth<3,>=1.6.3 in /usr/local/lib/python3.9/dist-packages (from tensorboard<2.10,>=2.9->tensorflow-gpu==2.9) (2.16.2)\n",
            "Requirement already satisfied: tensorboard-data-server<0.7.0,>=0.6.0 in /usr/local/lib/python3.9/dist-packages (from tensorboard<2.10,>=2.9->tensorflow-gpu==2.9) (0.6.1)\n",
            "Requirement already satisfied: tensorboard-plugin-wit>=1.6.0 in /usr/local/lib/python3.9/dist-packages (from tensorboard<2.10,>=2.9->tensorflow-gpu==2.9) (1.8.1)\n",
            "Requirement already satisfied: requests<3,>=2.21.0 in /usr/local/lib/python3.9/dist-packages (from tensorboard<2.10,>=2.9->tensorflow-gpu==2.9) (2.27.1)\n",
            "Requirement already satisfied: google-auth-oauthlib<0.5,>=0.4.1 in /usr/local/lib/python3.9/dist-packages (from tensorboard<2.10,>=2.9->tensorflow-gpu==2.9) (0.4.6)\n",
            "Requirement already satisfied: markdown>=2.6.8 in /usr/local/lib/python3.9/dist-packages (from tensorboard<2.10,>=2.9->tensorflow-gpu==2.9) (3.4.1)\n",
            "Requirement already satisfied: werkzeug>=1.0.1 in /usr/local/lib/python3.9/dist-packages (from tensorboard<2.10,>=2.9->tensorflow-gpu==2.9) (2.2.3)\n",
            "Requirement already satisfied: cachetools<6.0,>=2.0.0 in /usr/local/lib/python3.9/dist-packages (from google-auth<3,>=1.6.3->tensorboard<2.10,>=2.9->tensorflow-gpu==2.9) (5.3.0)\n",
            "Requirement already satisfied: pyasn1-modules>=0.2.1 in /usr/local/lib/python3.9/dist-packages (from google-auth<3,>=1.6.3->tensorboard<2.10,>=2.9->tensorflow-gpu==2.9) (0.2.8)\n",
            "Requirement already satisfied: rsa<5,>=3.1.4 in /usr/local/lib/python3.9/dist-packages (from google-auth<3,>=1.6.3->tensorboard<2.10,>=2.9->tensorflow-gpu==2.9) (4.9)\n",
            "Requirement already satisfied: requests-oauthlib>=0.7.0 in /usr/local/lib/python3.9/dist-packages (from google-auth-oauthlib<0.5,>=0.4.1->tensorboard<2.10,>=2.9->tensorflow-gpu==2.9) (1.3.1)\n",
            "Requirement already satisfied: importlib-metadata>=4.4 in /usr/local/lib/python3.9/dist-packages (from markdown>=2.6.8->tensorboard<2.10,>=2.9->tensorflow-gpu==2.9) (6.0.0)\n",
            "Requirement already satisfied: idna<4,>=2.5 in /usr/local/lib/python3.9/dist-packages (from requests<3,>=2.21.0->tensorboard<2.10,>=2.9->tensorflow-gpu==2.9) (3.4)\n",
            "Requirement already satisfied: charset-normalizer~=2.0.0 in /usr/local/lib/python3.9/dist-packages (from requests<3,>=2.21.0->tensorboard<2.10,>=2.9->tensorflow-gpu==2.9) (2.0.12)\n",
            "Requirement already satisfied: urllib3<1.27,>=1.21.1 in /usr/local/lib/python3.9/dist-packages (from requests<3,>=2.21.0->tensorboard<2.10,>=2.9->tensorflow-gpu==2.9) (1.26.15)\n",
            "Requirement already satisfied: certifi>=2017.4.17 in /usr/local/lib/python3.9/dist-packages (from requests<3,>=2.21.0->tensorboard<2.10,>=2.9->tensorflow-gpu==2.9) (2022.12.7)\n",
            "Requirement already satisfied: MarkupSafe>=2.1.1 in /usr/local/lib/python3.9/dist-packages (from werkzeug>=1.0.1->tensorboard<2.10,>=2.9->tensorflow-gpu==2.9) (2.1.2)\n",
            "Requirement already satisfied: zipp>=0.5 in /usr/local/lib/python3.9/dist-packages (from importlib-metadata>=4.4->markdown>=2.6.8->tensorboard<2.10,>=2.9->tensorflow-gpu==2.9) (3.15.0)\n",
            "Requirement already satisfied: pyasn1<0.5.0,>=0.4.6 in /usr/local/lib/python3.9/dist-packages (from pyasn1-modules>=0.2.1->google-auth<3,>=1.6.3->tensorboard<2.10,>=2.9->tensorflow-gpu==2.9) (0.4.8)\n",
            "Requirement already satisfied: oauthlib>=3.0.0 in /usr/local/lib/python3.9/dist-packages (from requests-oauthlib>=0.7.0->google-auth-oauthlib<0.5,>=0.4.1->tensorboard<2.10,>=2.9->tensorflow-gpu==2.9) (3.2.2)\n",
            "Installing collected packages: keras, flatbuffers, tensorflow-estimator, keras-preprocessing, tensorboard, tensorflow-gpu\n",
            "  Attempting uninstall: keras\n",
            "    Found existing installation: keras 2.11.0\n",
            "    Uninstalling keras-2.11.0:\n",
            "      Successfully uninstalled keras-2.11.0\n",
            "  Attempting uninstall: flatbuffers\n",
            "    Found existing installation: flatbuffers 23.3.3\n",
            "    Uninstalling flatbuffers-23.3.3:\n",
            "      Successfully uninstalled flatbuffers-23.3.3\n",
            "  Attempting uninstall: tensorflow-estimator\n",
            "    Found existing installation: tensorflow-estimator 2.11.0\n",
            "    Uninstalling tensorflow-estimator-2.11.0:\n",
            "      Successfully uninstalled tensorflow-estimator-2.11.0\n",
            "  Attempting uninstall: tensorboard\n",
            "    Found existing installation: tensorboard 2.11.2\n",
            "    Uninstalling tensorboard-2.11.2:\n",
            "      Successfully uninstalled tensorboard-2.11.2\n",
            "\u001b[31mERROR: pip's dependency resolver does not currently take into account all the packages that are installed. This behaviour is the source of the following dependency conflicts.\n",
            "tensorflow 2.11.0 requires flatbuffers>=2.0, but you have flatbuffers 1.12 which is incompatible.\n",
            "tensorflow 2.11.0 requires keras<2.12,>=2.11.0, but you have keras 2.9.0 which is incompatible.\n",
            "tensorflow 2.11.0 requires tensorboard<2.12,>=2.11, but you have tensorboard 2.9.1 which is incompatible.\n",
            "tensorflow 2.11.0 requires tensorflow-estimator<2.12,>=2.11.0, but you have tensorflow-estimator 2.9.0 which is incompatible.\u001b[0m\u001b[31m\n",
            "\u001b[0mSuccessfully installed flatbuffers-1.12 keras-2.9.0 keras-preprocessing-1.1.2 tensorboard-2.9.1 tensorflow-estimator-2.9.0 tensorflow-gpu-2.9.0\n"
          ]
        }
      ]
    },
    {
      "cell_type": "code",
      "source": [
        "from google.colab import drive\n",
        "drive.mount('/content/drive')"
      ],
      "metadata": {
        "colab": {
          "base_uri": "https://localhost:8080/"
        },
        "id": "nNlhfM9hHrI0",
        "outputId": "16f2fdc8-cd46-4a26-e365-b0ed1ff62882"
      },
      "execution_count": 30,
      "outputs": [
        {
          "output_type": "stream",
          "name": "stdout",
          "text": [
            "Drive already mounted at /content/drive; to attempt to forcibly remount, call drive.mount(\"/content/drive\", force_remount=True).\n"
          ]
        }
      ]
    },
    {
      "cell_type": "markdown",
      "source": [
        "Enable the auto mixed precision for better training speed."
      ],
      "metadata": {
        "id": "AOC46YQXFO82"
      }
    },
    {
      "cell_type": "code",
      "source": [
        "os.environ['ENABLE_AUTO_MIXED_PRECISION']  = '1'"
      ],
      "metadata": {
        "execution": {
          "iopub.status.busy": "2022-11-13T15:25:52.018387Z",
          "iopub.execute_input": "2022-11-13T15:25:52.018858Z",
          "iopub.status.idle": "2022-11-13T15:25:52.028799Z",
          "shell.execute_reply.started": "2022-11-13T15:25:52.018812Z",
          "shell.execute_reply": "2022-11-13T15:25:52.027601Z"
        },
        "trusted": true,
        "id": "Hrqxc9L8FO82"
      },
      "execution_count": 3,
      "outputs": []
    },
    {
      "cell_type": "markdown",
      "source": [
        "# **Data Distribution**"
      ],
      "metadata": {
        "id": "xap7WUSgFO82"
      }
    },
    {
      "cell_type": "markdown",
      "source": [
        "Before loading the data, it is **important to understand the data distribution and the class distribution**. Because our **final model** can be **affected** by the **class distribution**."
      ],
      "metadata": {
        "id": "KAQOOTq9FO82"
      }
    },
    {
      "cell_type": "code",
      "source": [
        "# Specify the root path.\n",
        "train_path = '/content/drive/MyDrive/Zoodo/Fast Food Classification V2 det/Train'\n",
        "valid_path = '/content/drive/MyDrive/Zoodo/Fast Food Classification V2/Valid'"
      ],
      "metadata": {
        "execution": {
          "iopub.status.busy": "2022-11-13T15:25:52.033991Z",
          "iopub.execute_input": "2022-11-13T15:25:52.035556Z",
          "iopub.status.idle": "2022-11-13T15:25:52.042627Z",
          "shell.execute_reply.started": "2022-11-13T15:25:52.035507Z",
          "shell.execute_reply": "2022-11-13T15:25:52.041286Z"
        },
        "trusted": true,
        "id": "Npl_5FpEFO83"
      },
      "execution_count": 32,
      "outputs": []
    },
    {
      "cell_type": "code",
      "source": [
        "import pathlib\n",
        "train_dir = pathlib.Path(\"/content/drive/MyDrive/Zoodo/Fast Food Classification V2/TFRecords/Train\")\n",
        "valid_dir = pathlib.Path(\"/content/drive/MyDrive/Zoodo/Fast Food Classification V2/TFRecords/Valid\")\n",
        "test_dir = pathlib.Path(\"/content/drive/MyDrive/Zoodo/Fast Food Classification V2/TFRecords/Test\")"
      ],
      "metadata": {
        "id": "lajACgz-bvg0"
      },
      "execution_count": 6,
      "outputs": []
    },
    {
      "cell_type": "code",
      "source": [
        "# Collecte the class names.\n",
        "class_names = sorted(os.listdir(train_path))\n",
        "n_classes = len(class_names)\n",
        "\n",
        "# Print\n",
        "print(\"No. Classes : {}\".format(n_classes))\n",
        "print(\"Classes     : {}\".format(class_names))"
      ],
      "metadata": {
        "execution": {
          "iopub.status.busy": "2022-11-13T15:25:52.055957Z",
          "iopub.execute_input": "2022-11-13T15:25:52.056402Z",
          "iopub.status.idle": "2022-11-13T15:25:52.073664Z",
          "shell.execute_reply.started": "2022-11-13T15:25:52.056364Z",
          "shell.execute_reply": "2022-11-13T15:25:52.071702Z"
        },
        "trusted": true,
        "colab": {
          "base_uri": "https://localhost:8080/"
        },
        "id": "6y7ZwnPiFO83",
        "outputId": "6be3bad5-7d1e-49ff-a344-b29e9e20e832"
      },
      "execution_count": 33,
      "outputs": [
        {
          "output_type": "stream",
          "name": "stdout",
          "text": [
            "No. Classes : 10\n",
            "Classes     : ['Baked Potato', 'Burger', 'Crispy Chicken', 'Donut', 'Fries', 'Hot Dog', 'Pizza', 'Sandwich', 'Taco', 'Taquito']\n"
          ]
        }
      ]
    },
    {
      "cell_type": "code",
      "source": [
        "# Initialize image data generator\n",
        "train_gen = IDG(rescale=1./255, rotation_range=10, horizontal_flip=True, vertical_flip=False)\n",
        "valid_gen = IDG(rescale=1./255)\n",
        "\n",
        "# Load the datasets\n",
        "train_ds = train_gen.flow_from_directory(train_path, shuffle=True, batch_size=64, target_size=(256,256), class_mode='binary')\n",
        "valid_ds = valid_gen.flow_from_directory(valid_path, shuffle=True, batch_size=32, target_size=(256,256), class_mode='binary')"
      ],
      "metadata": {
        "colab": {
          "base_uri": "https://localhost:8080/"
        },
        "id": "0J4E_-OzKs99",
        "outputId": "9a92c780-a08b-4690-a99a-732730b90612"
      },
      "execution_count": null,
      "outputs": [
        {
          "output_type": "stream",
          "name": "stdout",
          "text": [
            "Found 14507 images belonging to 11 classes.\n",
            "Found 3500 images belonging to 10 classes.\n"
          ]
        }
      ]
    },
    {
      "cell_type": "markdown",
      "source": [
        "We were already aware that our **data set consist of five classes**. Let's have a look at the **Class Distribution**."
      ],
      "metadata": {
        "id": "TOuagI7dFO83"
      }
    },
    {
      "cell_type": "markdown",
      "source": [
        "All the classes are **equally distributed** throughout the **training data**. This is a **good sign**, because **this ensures that our model cannot be biased towards a particular class**.\n",
        "\n",
        "---\n",
        "Let's also look at the **validation class distribution**, Because this distribution can **affect how we perceive the model's performance**."
      ],
      "metadata": {
        "id": "u3arzKehFO83"
      }
    },
    {
      "cell_type": "markdown",
      "source": [
        "**Great!** Even in the **validation data**, all classes are **equally distributed**. So the **model predictions cannot be just random guesses**."
      ],
      "metadata": {
        "id": "AGzZZzOZFO83"
      }
    },
    {
      "cell_type": "markdown",
      "source": [
        "# **Data Loading**"
      ],
      "metadata": {
        "id": "HhThL_u4FO84"
      }
    },
    {
      "cell_type": "markdown",
      "source": [
        "We are aware about the class distribution. It's time to **load the data**."
      ],
      "metadata": {
        "id": "cqxWyYOHFO84"
      }
    },
    {
      "cell_type": "markdown",
      "source": [
        "Setting a higher batch size does not affect the model's performance, but it do affects the GPU usage. **For better utilization of the GPU, a higher batch size is set for the training data**."
      ],
      "metadata": {
        "id": "tEjtBBNGFO84"
      }
    },
    {
      "cell_type": "markdown",
      "source": [
        "# **Data Visulization**"
      ],
      "metadata": {
        "id": "SBUyxzczFO84"
      }
    },
    {
      "cell_type": "markdown",
      "source": [
        "**Before framing the final model**, we need to have a **look at the data set** so that we can decide the **model configurations**."
      ],
      "metadata": {
        "id": "P0DN6gSrFO84"
      }
    },
    {
      "cell_type": "code",
      "source": [
        "def show_images(data, class_names=class_names, GRID=[3,6], figsize=(25,15), model=None):\n",
        "    \n",
        "    # Plot configurations\n",
        "    n_rows, n_cols = GRID\n",
        "    n_images = n_rows * n_cols\n",
        "    plt.figure(figsize=figsize)\n",
        "    \n",
        "    n=1\n",
        "    for images, labels in iter(data):\n",
        "        \n",
        "        # Select a random image and label.\n",
        "        idx = np.random.randint(len(images))\n",
        "        image, label = images[idx], class_names[int(labels[idx])]\n",
        "        \n",
        "        # Plot image\n",
        "        plt.subplot(n_rows, n_cols, n)\n",
        "        title = f\"True : {label}\"\n",
        "        if model is not None:\n",
        "            pred = class_names[np.argmax(model.predict(image[np.newaxis,...])[0])]\n",
        "            title = f\"True : {label}\\nPred : {pred}\"\n",
        "        plt.imshow(image)\n",
        "        plt.title(title)\n",
        "        plt.axis('off')\n",
        "        \n",
        "        n+=1\n",
        "        if n>=(n_images+1):\n",
        "            break\n",
        "            \n",
        "    plt.show()"
      ],
      "metadata": {
        "execution": {
          "iopub.status.busy": "2022-11-13T15:25:55.366368Z",
          "iopub.execute_input": "2022-11-13T15:25:55.368689Z",
          "iopub.status.idle": "2022-11-13T15:25:55.382407Z",
          "shell.execute_reply.started": "2022-11-13T15:25:55.368649Z",
          "shell.execute_reply": "2022-11-13T15:25:55.381254Z"
        },
        "trusted": true,
        "id": "mYtliY57FO84"
      },
      "execution_count": null,
      "outputs": []
    },
    {
      "cell_type": "markdown",
      "source": [
        "# **TFRecords Loading**"
      ],
      "metadata": {
        "id": "F9UaQdFPFO85"
      }
    },
    {
      "cell_type": "code",
      "source": [
        "def process_data(image):\n",
        "    image = tfi.decode_jpeg(image, channels=3)\n",
        "    image = tfi.random_brightness(image, max_delta=0.2)\n",
        "    image = tf.cast(image, tf.float32)/255.\n",
        "    return image\n",
        "\n",
        "def cvt_to_image_label(example):\n",
        "    ground_truth = {\n",
        "        'label':io.FixedLenFeature([], tf.int64),\n",
        "        'image':io.FixedLenFeature([], tf.string)\n",
        "    }\n",
        "\n",
        "    example = io.parse_single_example(example, ground_truth)\n",
        "    images, labels = example['image'], example['label']\n",
        "    images = process_data(images)\n",
        "    return images, labels"
      ],
      "metadata": {
        "id": "GLmR-JpXPmAA"
      },
      "execution_count": null,
      "outputs": []
    },
    {
      "cell_type": "code",
      "source": [
        "# Specify the Path\n",
        "file_pattern = '/content/drive/MyDrive/Zoodo/Fast Food Classification V2/TFRecords/Train/*.tfrecord'\n",
        "files = tfd.Dataset.list_files(file_pattern)\n",
        "\n",
        "# Load The Data\n",
        "data = tfd.TFRecordDataset(files)\n",
        "data = data.map(cvt_to_image_label, num_parallel_calls=tfd.AUTOTUNE)\n",
        "data = data.cache().repeat(1).shuffle(2048)\n",
        "train_tf_ds = data.batch(64, drop_remainder=True).prefetch(tfd.AUTOTUNE)"
      ],
      "metadata": {
        "id": "wbqjESLBPo4k"
      },
      "execution_count": null,
      "outputs": []
    },
    {
      "cell_type": "code",
      "source": [
        "# Specify the Path\n",
        "file_pattern = '/content/drive/MyDrive/Zoodo/Fast Food Classification V2/TFRecords/Valid/*.tfrecord'\n",
        "files = tfd.Dataset.list_files(file_pattern)\n",
        "\n",
        "# Load The Data\n",
        "data = tfd.TFRecordDataset(files)\n",
        "data = data.map(cvt_to_image_label, num_parallel_calls=tfd.AUTOTUNE)\n",
        "data = data.cache().repeat(1).shuffle(2048)\n",
        "valid_tf_ds = data.batch(64, drop_remainder=True).prefetch(tfd.AUTOTUNE)"
      ],
      "metadata": {
        "id": "g0PxLcwdQL9p"
      },
      "execution_count": null,
      "outputs": []
    },
    {
      "cell_type": "markdown",
      "source": [
        "The below functions will **decode the data** and apply little bit of **data augmentation**."
      ],
      "metadata": {
        "id": "FR-jhvqHFO85"
      }
    },
    {
      "cell_type": "markdown",
      "source": [
        "Similarly, let's load the **validation data**."
      ],
      "metadata": {
        "id": "vR4DTOTNFO85"
      }
    },
    {
      "cell_type": "markdown",
      "source": [
        "**Processing and loading data** using **Tensorflow records** allow **better utilization of memory**, as well as the **tensorflow environment**."
      ],
      "metadata": {
        "id": "a45Kw5-cFO85"
      }
    },
    {
      "cell_type": "markdown",
      "source": [
        "# **Data Visualization**"
      ],
      "metadata": {
        "id": "UN3CKMcGFO85"
      }
    },
    {
      "cell_type": "code",
      "source": [
        "show_images(data=train_ds)"
      ],
      "metadata": {
        "id": "5TSee566QUFA"
      },
      "execution_count": null,
      "outputs": []
    },
    {
      "cell_type": "code",
      "source": [
        "show_images(data=train_ds)"
      ],
      "metadata": {
        "id": "2enu3h-zQ_iR"
      },
      "execution_count": null,
      "outputs": []
    },
    {
      "cell_type": "code",
      "source": [],
      "metadata": {
        "id": "DZ_1_UE7Rttu"
      },
      "execution_count": null,
      "outputs": []
    },
    {
      "cell_type": "code",
      "source": [
        "# Base Model\n",
        "base = ResNet50V2(include_top=False, input_shape=(256,256,3))\n",
        "base.trainable = False\n",
        "\n",
        "# Model Architecture\n",
        "model = Sequential([\n",
        "    base, GAP(),\n",
        "    Dense(1024, kernel_initializer='he_normal', activation='relu'),\n",
        "    Dropout(0.4),\n",
        "    Dense(n_classes, activation='softmax')\n",
        "])\n",
        "# Callbacks\n",
        "cbs = [\n",
        "    EarlyStopping(patience=3, restore_best_weights=True),\n",
        "    ModelCheckpoint('food-classifier.h5', save_best_only=True)\n",
        "]\n",
        "\n",
        "# Compile\n",
        "model.compile(\n",
        "    loss='sparse_categorical_crossentropy',\n",
        "    optimizer=tf.keras.optimizers.Adam(learning_rate=2e-3),\n",
        "    metrics=['accuracy']\n",
        ")\n",
        "\n",
        "# Train\n",
        "# model.fit(train_tf_ds, validation_data-valid_tf_ds, epochs=100, callbacks=cbs)"
      ],
      "metadata": {
        "id": "1BGMdlIDZA40",
        "colab": {
          "base_uri": "https://localhost:8080/"
        },
        "outputId": "9056a421-857f-4276-d747-3f44e9baa5b4"
      },
      "execution_count": null,
      "outputs": [
        {
          "output_type": "stream",
          "name": "stdout",
          "text": [
            "Downloading data from https://storage.googleapis.com/tensorflow/keras-applications/resnet/resnet50v2_weights_tf_dim_ordering_tf_kernels_notop.h5\n",
            "94668760/94668760 [==============================] - 0s 0us/step\n"
          ]
        }
      ]
    },
    {
      "cell_type": "markdown",
      "source": [
        "Just like we plotted the images for **Image Data Generator data**, let's plot the images for the **Tensorflow Records**."
      ],
      "metadata": {
        "id": "RVudGjmUFO85"
      }
    },
    {
      "cell_type": "markdown",
      "source": [
        "The **only difference** between this data and the original data is that the **tensorflow records** data is already **resized to 256 by 256 pixels**."
      ],
      "metadata": {
        "id": "nu8ZtOx5FO87"
      }
    },
    {
      "cell_type": "markdown",
      "source": [
        "# **Model**"
      ],
      "metadata": {
        "id": "MhbUMtuFFO87"
      }
    },
    {
      "cell_type": "markdown",
      "source": [
        "Let's focus on building the **perfect model architecture** for this **data set**."
      ],
      "metadata": {
        "id": "ENIblxhDFO87"
      }
    },
    {
      "cell_type": "markdown",
      "source": [
        "# **Load Model**"
      ],
      "metadata": {
        "id": "jWbmN0AuFO87"
      }
    },
    {
      "cell_type": "markdown",
      "source": [
        "I have already trained in the model, and the **model weights** are **available in the associated data set**. So let's **load those weights**."
      ],
      "metadata": {
        "id": "qEnVckJbFO87"
      }
    },
    {
      "cell_type": "code",
      "source": [
        "model = load_model('/content/drive/MyDrive/Zoodo/new_model_to_predit_food.h5')\n",
        "model.summary()"
      ],
      "metadata": {
        "trusted": true,
        "id": "udKTSquGFO88",
        "colab": {
          "base_uri": "https://localhost:8080/"
        },
        "outputId": "0493da9b-f6e0-4520-c8fc-73d10a23b6d3"
      },
      "execution_count": 31,
      "outputs": [
        {
          "output_type": "stream",
          "name": "stdout",
          "text": [
            "Model: \"sequential\"\n",
            "_________________________________________________________________\n",
            " Layer (type)                Output Shape              Param #   \n",
            "=================================================================\n",
            " rescaling (Rescaling)       (None, 180, 180, 3)       0         \n",
            "                                                                 \n",
            " conv2d (Conv2D)             (None, 180, 180, 16)      448       \n",
            "                                                                 \n",
            " max_pooling2d (MaxPooling2D  (None, 90, 90, 16)       0         \n",
            " )                                                               \n",
            "                                                                 \n",
            " conv2d_1 (Conv2D)           (None, 90, 90, 32)        4640      \n",
            "                                                                 \n",
            " max_pooling2d_1 (MaxPooling  (None, 45, 45, 32)       0         \n",
            " 2D)                                                             \n",
            "                                                                 \n",
            " conv2d_2 (Conv2D)           (None, 45, 45, 64)        18496     \n",
            "                                                                 \n",
            " max_pooling2d_2 (MaxPooling  (None, 22, 22, 64)       0         \n",
            " 2D)                                                             \n",
            "                                                                 \n",
            " flatten (Flatten)           (None, 30976)             0         \n",
            "                                                                 \n",
            " dense (Dense)               (None, 128)               3965056   \n",
            "                                                                 \n",
            " dense_1 (Dense)             (None, 10)                1290      \n",
            "                                                                 \n",
            "=================================================================\n",
            "Total params: 3,989,930\n",
            "Trainable params: 3,989,930\n",
            "Non-trainable params: 0\n",
            "_________________________________________________________________\n"
          ]
        }
      ]
    },
    {
      "cell_type": "code",
      "source": [
        "import tensorflow as tf\n",
        "\n",
        "model = tf.keras.models.load_model('/content/drive/MyDrive/Zoodo/new_model_to_predit_food.h5')\n",
        "converter = tf.lite.TFLiteConverter.from_keras_model(model)\n",
        "tflite_model = converter.convert()\n",
        "open(\"new_Model.tflite\", \"wb\").write(tflite_model)\n"
      ],
      "metadata": {
        "colab": {
          "base_uri": "https://localhost:8080/"
        },
        "id": "iTeZju6r7Q87",
        "outputId": "1c0baee5-985e-474b-ce1c-4d83edc74787"
      },
      "execution_count": 35,
      "outputs": [
        {
          "output_type": "stream",
          "name": "stderr",
          "text": [
            "WARNING:tensorflow:AutoGraph could not transform <function trace_model_call.<locals>._wrapped_model at 0x7fe8a65bb280> and will run it as-is.\n",
            "Cause: Unable to locate the source code of <function trace_model_call.<locals>._wrapped_model at 0x7fe8a65bb280>. Note that functions defined in certain environments, like the interactive Python shell, do not expose their source code. If that is the case, you should define them in a .py source file. If you are certain the code is graph-compatible, wrap the call using @tf.autograph.experimental.do_not_convert. Original error: could not get source code\n",
            "To silence this warning, decorate the function with @tf.autograph.experimental.do_not_convert\n"
          ]
        },
        {
          "output_type": "stream",
          "name": "stdout",
          "text": [
            "WARNING: AutoGraph could not transform <function trace_model_call.<locals>._wrapped_model at 0x7fe8a65bb280> and will run it as-is.\n",
            "Cause: Unable to locate the source code of <function trace_model_call.<locals>._wrapped_model at 0x7fe8a65bb280>. Note that functions defined in certain environments, like the interactive Python shell, do not expose their source code. If that is the case, you should define them in a .py source file. If you are certain the code is graph-compatible, wrap the call using @tf.autograph.experimental.do_not_convert. Original error: could not get source code\n",
            "To silence this warning, decorate the function with @tf.autograph.experimental.do_not_convert\n"
          ]
        },
        {
          "output_type": "stream",
          "name": "stderr",
          "text": [
            "WARNING:absl:Found untraced functions such as _jit_compiled_convolution_op, _jit_compiled_convolution_op, _jit_compiled_convolution_op, _update_step_xla while saving (showing 4 of 4). These functions will not be directly callable after loading.\n"
          ]
        },
        {
          "output_type": "execute_result",
          "data": {
            "text/plain": [
              "15963680"
            ]
          },
          "metadata": {},
          "execution_count": 35
        }
      ]
    },
    {
      "cell_type": "code",
      "source": [
        "food_list = os.listdir(r'/content/drive/MyDrive/Zoodo/Fast Food Classification V2 det/Test')\n",
        "food_list\n"
      ],
      "metadata": {
        "id": "SltpSIk0MY9d",
        "colab": {
          "base_uri": "https://localhost:8080/"
        },
        "outputId": "b1f3c73b-4cb4-406a-f40f-9a4e0945e9d9"
      },
      "execution_count": 36,
      "outputs": [
        {
          "output_type": "execute_result",
          "data": {
            "text/plain": [
              "['Pizza',\n",
              " 'Crispy Chicken',\n",
              " 'Hot Dog',\n",
              " 'Fries',\n",
              " 'Taco',\n",
              " 'Baked Potato',\n",
              " 'Donut',\n",
              " 'Burger',\n",
              " 'Taquito',\n",
              " 'Sandwich']"
            ]
          },
          "metadata": {},
          "execution_count": 36
        }
      ]
    },
    {
      "cell_type": "markdown",
      "source": [
        "# **Model Prediction**"
      ],
      "metadata": {
        "id": "owlXE0utFO88"
      }
    },
    {
      "cell_type": "markdown",
      "source": [
        "The model made a few errors, like it **classified a Sandwich as Burger**. But if you look at the image, you will find that the **features of that image for being sandwich is relatively lower than the features for being burger**. What I found that whenever the **model prediction** does **not matches** with the **actual class**, the image is skewed.\n",
        "\n",
        "---\n",
        "**DeepNets**"
      ],
      "metadata": {
        "id": "rlfu6VrQFO88"
      }
    },
    {
      "cell_type": "code",
      "source": [
        "testing_taco = ('/content/drive/MyDrive/Zoodo/Fast Food Classification V2 det/Test/Crispy Chicken/Crispy Chicken-Test (1).jpeg')\n",
        "Image.open(testing_taco)"
      ],
      "metadata": {
        "colab": {
          "base_uri": "https://localhost:8080/",
          "height": 242
        },
        "id": "R8UEHr70bgcq",
        "outputId": "ddfb1324-67c5-4bcf-e075-7f9fce61f174"
      },
      "execution_count": 56,
      "outputs": [
        {
          "output_type": "execute_result",
          "data": {
            "text/plain": [
              "<PIL.JpegImagePlugin.JpegImageFile image mode=RGB size=225x225 at 0x7FE8A51D8A90>"
            ],
            "image/png": "[encoded data removed]"
          },
          "metadata": {},
          "execution_count": 56
        }
      ]
    },
    {
      "cell_type": "code",
      "source": [
        "# Convert image to array\n",
        "\n",
        "path = str(testing_taco)\n",
        "\n",
        "img = tf.keras.utils.load_img(\n",
        "    path, target_size=[180, 180]\n",
        ")\n",
        "\n",
        "img_array = tf.keras.utils.img_to_array(img)\n",
        "img_array = tf.expand_dims(img_array, 0) # Create a batch"
      ],
      "metadata": {
        "id": "TQe7O8OMcisj"
      },
      "execution_count": 57,
      "outputs": []
    },
    {
      "cell_type": "code",
      "source": [
        "predictions = model.predict(img_array)\n",
        "score = tf.nn.softmax(predictions)\n",
        "score1 = 100 * np.max(score)\n",
        "if score1<99.6:\n",
        "  print(\"This is not a food\")\n",
        "else :\n",
        "  print(\n",
        "    f\"This image most likely belongs to {class_names[np.argmax(score)]}\"\n",
        "    f\"\\nWith a {100 * np.max(score)} percent confidene\"\n",
        ")"
      ],
      "metadata": {
        "colab": {
          "base_uri": "https://localhost:8080/"
        },
        "id": "je8hz7qdmorG",
        "outputId": "4d07667e-f5fb-4d57-a563-c24d5301f921"
      },
      "execution_count": 58,
      "outputs": [
        {
          "output_type": "stream",
          "name": "stdout",
          "text": [
            "1/1 [==============================] - 0s 36ms/step\n",
            "This image most likely belongs to Crispy Chicken\n",
            "With a 99.97592568397522 percent confidene\n"
          ]
        }
      ]
    },
    {
      "cell_type": "code",
      "source": [
        "score1 = 100 * np.max(score)"
      ],
      "metadata": {
        "id": "wWDCvPy6pN3s"
      },
      "execution_count": 47,
      "outputs": []
    },
    {
      "cell_type": "code",
      "source": [
        "if score1<99.6:\n",
        "  print(\"This is not a food\")"
      ],
      "metadata": {
        "colab": {
          "base_uri": "https://localhost:8080/"
        },
        "id": "e_P6_SegpVC4",
        "outputId": "472ac89f-8f17-4452-aa6c-3b8485ccc1f4"
      },
      "execution_count": 48,
      "outputs": [
        {
          "output_type": "stream",
          "name": "stdout",
          "text": [
            "This is not a food\n"
          ]
        }
      ]
    },
    {
      "cell_type": "code",
      "source": [
        "food=class_names[np.argmax(score)]\n",
        "food"
      ],
      "metadata": {
        "colab": {
          "base_uri": "https://localhost:8080/",
          "height": 36
        },
        "id": "mWlptHcqIwSF",
        "outputId": "31a18107-3e43-48b6-c9ed-70fc70824d21"
      },
      "execution_count": 21,
      "outputs": [
        {
          "output_type": "execute_result",
          "data": {
            "text/plain": [
              "'Hot Dog'"
            ],
            "application/vnd.google.colaboratory.intrinsic+json": {
              "type": "string"
            }
          },
          "metadata": {},
          "execution_count": 21
        }
      ]
    },
    {
      "cell_type": "code",
      "source": [
        "import pandas as pd\n",
        "path='/content/drive/MyDrive/Zoodo/Fast Food Classification V2/Health report .xlsx'\n",
        "my_data = pd.read_excel(path)"
      ],
      "metadata": {
        "id": "mstoB26DIzic"
      },
      "execution_count": 22,
      "outputs": []
    },
    {
      "cell_type": "code",
      "source": [
        "!wget https://raw.githubusercontent.com/adeshpande3/Pandas-Tutorial/master/RegularSeasonCompactResults.csv"
      ],
      "metadata": {
        "colab": {
          "base_uri": "https://localhost:8080/"
        },
        "id": "AnT2CoQBI2yH",
        "outputId": "fea2eddb-6e58-490c-cc6c-60384f6e2a27"
      },
      "execution_count": 23,
      "outputs": [
        {
          "output_type": "stream",
          "name": "stdout",
          "text": [
            "--2023-03-17 17:19:38--  https://raw.githubusercontent.com/adeshpande3/Pandas-Tutorial/master/RegularSeasonCompactResults.csv\n",
            "Resolving raw.githubusercontent.com (raw.githubusercontent.com)... 185.199.108.133, 185.199.109.133, 185.199.110.133, ...\n",
            "Connecting to raw.githubusercontent.com (raw.githubusercontent.com)|185.199.108.133|:443... connected.\n",
            "HTTP request sent, awaiting response... 200 OK\n",
            "Length: 4115852 (3.9M) [text/plain]\n",
            "Saving to: ‘RegularSeasonCompactResults.csv’\n",
            "\n",
            "RegularSeasonCompac 100%[===================>]   3.92M  --.-KB/s    in 0.08s   \n",
            "\n",
            "2023-03-17 17:19:38 (50.1 MB/s) - ‘RegularSeasonCompactResults.csv’ saved [4115852/4115852]\n",
            "\n"
          ]
        }
      ]
    },
    {
      "cell_type": "code",
      "source": [
        "%pip freeze"
      ],
      "metadata": {
        "id": "jTIsb59AI53v",
        "colab": {
          "base_uri": "https://localhost:8080/"
        },
        "outputId": "04f8b9bc-d424-463f-8d7d-7b2f1f44e86b"
      },
      "execution_count": 24,
      "outputs": [
        {
          "output_type": "stream",
          "name": "stdout",
          "text": [
            "absl-py==1.4.0\n",
            "alabaster==0.7.13\n",
            "albumentations==1.2.1\n",
            "altair==4.2.2\n",
            "argon2-cffi==21.3.0\n",
            "argon2-cffi-bindings==21.2.0\n",
            "arviz==0.15.1\n",
            "astropy==5.2.1\n",
            "astunparse==1.6.3\n",
            "atomicwrites==1.4.1\n",
            "attrs==22.2.0\n",
            "audioread==3.0.0\n",
            "autograd==1.5\n",
            "Babel==2.12.1\n",
            "backcall==0.2.0\n",
            "beautifulsoup4==4.11.2\n",
            "bleach==6.0.0\n",
            "blis==0.7.9\n",
            "bokeh==2.4.3\n",
            "branca==0.6.0\n",
            "bs4==0.0.1\n",
            "CacheControl==0.12.11\n",
            "cachetools==5.3.0\n",
            "catalogue==2.0.8\n",
            "certifi==2022.12.7\n",
            "cffi==1.15.1\n",
            "chardet==3.0.4\n",
            "charset-normalizer==2.0.12\n",
            "click==8.1.3\n",
            "cloudpickle==2.2.1\n",
            "cmake==3.25.2\n",
            "cmdstanpy==1.1.0\n",
            "colorcet==3.0.1\n",
            "colorlover==0.3.0\n",
            "community==1.0.0b1\n",
            "confection==0.0.4\n",
            "cons==0.4.5\n",
            "contextlib2==0.6.0.post1\n",
            "contourpy==1.0.7\n",
            "convertdate==2.4.0\n",
            "cufflinks==0.17.3\n",
            "cvxopt==1.3.0\n",
            "cvxpy==1.3.0\n",
            "cycler==0.11.0\n",
            "cymem==2.0.7\n",
            "Cython==0.29.33\n",
            "dask==2022.12.1\n",
            "datascience==0.17.6\n",
            "db-dtypes==1.0.5\n",
            "dbus-python==1.2.16\n",
            "debugpy==1.6.6\n",
            "decorator==4.4.2\n",
            "defusedxml==0.7.1\n",
            "distributed==2022.12.1\n",
            "dlib==19.24.0\n",
            "dm-tree==0.1.8\n",
            "docutils==0.16\n",
            "dopamine-rl==1.0.5\n",
            "earthengine-api==0.1.345\n",
            "easydict==1.10\n",
            "ecos==2.0.12\n",
            "editdistance==0.5.3\n",
            "en-core-web-sm @ https://github.com/explosion/spacy-models/releases/download/en_core_web_sm-3.5.0/en_core_web_sm-3.5.0-py3-none-any.whl\n",
            "entrypoints==0.4\n",
            "ephem==4.1.4\n",
            "et-xmlfile==1.1.0\n",
            "etils==1.1.0\n",
            "etuples==0.3.8\n",
            "fastai==2.7.11\n",
            "fastcore==1.5.28\n",
            "fastdownload==0.0.7\n",
            "fastjsonschema==2.16.3\n",
            "fastprogress==1.0.3\n",
            "fastrlock==0.8.1\n",
            "filelock==3.10.0\n",
            "firebase-admin==5.3.0\n",
            "fix-yahoo-finance==0.0.22\n",
            "Flask==2.2.3\n",
            "flatbuffers==1.12\n",
            "folium==0.12.1.post1\n",
            "fonttools==4.39.0\n",
            "fsspec==2023.3.0\n",
            "future==0.18.3\n",
            "gast==0.4.0\n",
            "GDAL==3.3.2\n",
            "gdown==4.6.4\n",
            "gensim==3.6.0\n",
            "geographiclib==1.52\n",
            "geopy==1.17.0\n",
            "gin-config==0.5.0\n",
            "glob2==0.7\n",
            "google==2.0.3\n",
            "google-api-core==2.11.0\n",
            "google-api-python-client==2.70.0\n",
            "google-auth==2.16.2\n",
            "google-auth-httplib2==0.1.0\n",
            "google-auth-oauthlib==0.4.6\n",
            "google-cloud-bigquery==3.4.2\n",
            "google-cloud-bigquery-storage==2.19.0\n",
            "google-cloud-core==2.3.2\n",
            "google-cloud-datastore==2.11.1\n",
            "google-cloud-firestore==2.7.3\n",
            "google-cloud-language==2.6.1\n",
            "google-cloud-storage==2.7.0\n",
            "google-cloud-translate==3.8.4\n",
            "google-colab @ file:///colabtools/dist/google-colab-1.0.0.tar.gz\n",
            "google-crc32c==1.5.0\n",
            "google-pasta==0.2.0\n",
            "google-resumable-media==2.4.1\n",
            "googleapis-common-protos==1.58.0\n",
            "googledrivedownloader==0.4\n",
            "graphviz==0.10.1\n",
            "greenlet==2.0.2\n",
            "grpcio==1.51.3\n",
            "grpcio-status==1.48.2\n",
            "gspread==3.4.2\n",
            "gspread-dataframe==3.0.8\n",
            "gym==0.25.2\n",
            "gym-notices==0.0.8\n",
            "h5netcdf==1.1.0\n",
            "h5py==3.8.0\n",
            "HeapDict==1.0.1\n",
            "hijri-converter==2.2.4\n",
            "holidays==0.21.13\n",
            "holoviews==1.14.9\n",
            "html5lib==1.1\n",
            "htmlmin==0.1.12\n",
            "httpimport==1.3.0\n",
            "httplib2==0.21.0\n",
            "humanize==4.6.0\n",
            "hyperopt==0.2.7\n",
            "idna==3.4\n",
            "ImageHash==4.3.1\n",
            "imageio==2.9.0\n",
            "imagesize==1.4.1\n",
            "imbalanced-learn==0.10.1\n",
            "imblearn==0.0\n",
            "imgaug==0.4.0\n",
            "importlib-metadata==6.0.0\n",
            "importlib-resources==5.12.0\n",
            "imutils==0.5.4\n",
            "inflect==6.0.2\n",
            "intel-openmp==2023.0.0\n",
            "ipykernel==5.3.4\n",
            "ipython==7.9.0\n",
            "ipython-genutils==0.2.0\n",
            "ipython-sql==0.3.9\n",
            "ipywidgets==7.7.1\n",
            "itsdangerous==2.1.2\n",
            "jax==0.4.6\n",
            "jaxlib @ https://storage.googleapis.com/jax-releases/cuda11/jaxlib-0.4.6+cuda11.cudnn86-cp39-cp39-manylinux2014_x86_64.whl\n",
            "jieba==0.42.1\n",
            "Jinja2==3.1.2\n",
            "joblib==1.1.1\n",
            "jsonschema==4.3.3\n",
            "jupyter-client==6.1.12\n",
            "jupyter-console==6.1.0\n",
            "jupyter_core==5.2.0\n",
            "jupyterlab-pygments==0.2.2\n",
            "jupyterlab-widgets==3.0.5\n",
            "kaggle==1.5.13\n",
            "keras==2.9.0\n",
            "Keras-Preprocessing==1.1.2\n",
            "keras-vis==0.4.1\n",
            "kiwisolver==1.4.4\n",
            "korean-lunar-calendar==0.3.1\n",
            "langcodes==3.3.0\n",
            "lazy_loader==0.1\n",
            "libclang==15.0.6.1\n",
            "librosa==0.10.0\n",
            "lightgbm==3.3.5\n",
            "llvmlite==0.39.1\n",
            "locket==1.0.0\n",
            "logical-unification==0.4.5\n",
            "LunarCalendar==0.0.9\n",
            "lxml==4.9.2\n",
            "Markdown==3.4.1\n",
            "MarkupSafe==2.1.2\n",
            "matplotlib==3.7.1\n",
            "matplotlib-venn==0.11.9\n",
            "miniKanren==1.0.3\n",
            "missingno==0.5.2\n",
            "mistune==0.8.4\n",
            "mizani==0.8.1\n",
            "mkl==2019.0\n",
            "mlxtend==0.14.0\n",
            "more-itertools==9.1.0\n",
            "moviepy==0.2.3.5\n",
            "mpmath==1.3.0\n",
            "msgpack==1.0.5\n",
            "multimethod==1.9.1\n",
            "multipledispatch==0.6.0\n",
            "multitasking==0.0.11\n",
            "murmurhash==1.0.9\n",
            "music21==5.5.0\n",
            "natsort==5.5.0\n",
            "nbclient==0.7.2\n",
            "nbconvert==6.5.4\n",
            "nbformat==5.7.3\n",
            "networkx==3.0\n",
            "nibabel==3.0.2\n",
            "nltk==3.8.1\n",
            "notebook==6.3.0\n",
            "numba==0.56.4\n",
            "numexpr==2.8.4\n",
            "numpy==1.22.4\n",
            "oauth2client==4.1.3\n",
            "oauthlib==3.2.2\n",
            "opencv-contrib-python==4.6.0.66\n",
            "opencv-python==4.6.0.66\n",
            "opencv-python-headless==4.7.0.72\n",
            "openpyxl==3.0.10\n",
            "opt-einsum==3.3.0\n",
            "osqp==0.6.2.post0\n",
            "packaging==23.0\n",
            "palettable==3.3.0\n",
            "pandas==1.4.4\n",
            "pandas-datareader==0.10.0\n",
            "pandas-gbq==0.17.9\n",
            "pandas-profiling==3.2.0\n",
            "pandocfilters==1.5.0\n",
            "panel==0.14.4\n",
            "param==1.13.0\n",
            "parso==0.8.3\n",
            "partd==1.3.0\n",
            "pathlib==1.0.1\n",
            "pathy==0.10.1\n",
            "patsy==0.5.3\n",
            "pep517==0.13.0\n",
            "pexpect==4.8.0\n",
            "phik==0.12.3\n",
            "pickleshare==0.7.5\n",
            "Pillow==8.4.0\n",
            "pip-tools==6.6.2\n",
            "platformdirs==3.1.1\n",
            "plotly==5.5.0\n",
            "plotnine==0.10.1\n",
            "pluggy==0.7.1\n",
            "pooch==1.7.0\n",
            "portpicker==1.3.9\n",
            "prefetch-generator==1.0.3\n",
            "preshed==3.0.8\n",
            "prettytable==3.6.0\n",
            "progressbar2==3.38.0\n",
            "prometheus-client==0.16.0\n",
            "promise==2.3\n",
            "prompt-toolkit==2.0.10\n",
            "prophet==1.1.2\n",
            "proto-plus==1.22.2\n",
            "protobuf==3.19.6\n",
            "psutil==5.9.4\n",
            "psycopg2==2.9.5\n",
            "ptyprocess==0.7.0\n",
            "py==1.11.0\n",
            "py4j==0.10.9.7\n",
            "pyarrow==9.0.0\n",
            "pyasn1==0.4.8\n",
            "pyasn1-modules==0.2.8\n",
            "pycocotools==2.0.6\n",
            "pycparser==2.21\n",
            "pyct==0.5.0\n",
            "pydantic==1.10.6\n",
            "pydata-google-auth==1.7.0\n",
            "pydot==1.3.0\n",
            "pydot-ng==2.0.0\n",
            "pydotplus==2.0.2\n",
            "PyDrive==1.3.1\n",
            "pyerfa==2.0.0.1\n",
            "Pygments==2.6.1\n",
            "PyGObject==3.36.0\n",
            "pymc==5.1.2\n",
            "PyMeeus==0.5.12\n",
            "pymystem3==0.2.0\n",
            "PyOpenGL==3.1.6\n",
            "pyparsing==3.0.9\n",
            "pyrsistent==0.19.3\n",
            "PySocks==1.7.1\n",
            "pytensor==2.10.1\n",
            "pytest==3.6.4\n",
            "python-apt==0.0.0\n",
            "python-dateutil==2.8.2\n",
            "python-louvain==0.16\n",
            "python-slugify==8.0.1\n",
            "python-utils==3.5.2\n",
            "pytz==2022.7.1\n",
            "pytz-deprecation-shim==0.1.0.post0\n",
            "pyviz-comms==2.2.1\n",
            "PyWavelets==1.4.1\n",
            "PyYAML==6.0\n",
            "pyzmq==23.2.1\n",
            "qdldl==0.1.5.post3\n",
            "qudida==0.0.4\n",
            "regex==2022.10.31\n",
            "requests==2.27.1\n",
            "requests-oauthlib==1.3.1\n",
            "requests-unixsocket==0.2.0\n",
            "rpy2==3.5.5\n",
            "rsa==4.9\n",
            "scikit-image==0.19.3\n",
            "scikit-learn==1.2.2\n",
            "scipy==1.10.1\n",
            "screen-resolution-extra==0.0.0\n",
            "scs==3.2.2\n",
            "seaborn==0.12.2\n",
            "Send2Trash==1.8.0\n",
            "shapely==2.0.1\n",
            "six==1.15.0\n",
            "sklearn-pandas==2.2.0\n",
            "smart-open==6.3.0\n",
            "snowballstemmer==2.2.0\n",
            "sortedcontainers==2.4.0\n",
            "soundfile==0.12.1\n",
            "soupsieve==2.4\n",
            "soxr==0.3.4\n",
            "spacy==3.5.1\n",
            "spacy-legacy==3.0.12\n",
            "spacy-loggers==1.0.4\n",
            "Sphinx==3.5.4\n",
            "sphinxcontrib-applehelp==1.0.4\n",
            "sphinxcontrib-devhelp==1.0.2\n",
            "sphinxcontrib-htmlhelp==2.0.1\n",
            "sphinxcontrib-jsmath==1.0.1\n",
            "sphinxcontrib-qthelp==1.0.3\n",
            "sphinxcontrib-serializinghtml==1.1.5\n",
            "SQLAlchemy==1.4.46\n",
            "sqlparse==0.4.3\n",
            "srsly==2.4.6\n",
            "statsmodels==0.13.5\n",
            "sympy==1.11.1\n",
            "tables==3.7.0\n",
            "tabulate==0.8.10\n",
            "tangled-up-in-unicode==0.2.0\n",
            "tblib==1.7.0\n",
            "tenacity==8.2.2\n",
            "tensorboard==2.9.1\n",
            "tensorboard-data-server==0.6.1\n",
            "tensorboard-plugin-wit==1.8.1\n",
            "tensorflow==2.11.0\n",
            "tensorflow-datasets==4.8.3\n",
            "tensorflow-estimator==2.9.0\n",
            "tensorflow-gcs-config==2.11.0\n",
            "tensorflow-gpu==2.9.0\n",
            "tensorflow-hub==0.13.0\n",
            "tensorflow-io-gcs-filesystem==0.31.0\n",
            "tensorflow-metadata==1.12.0\n",
            "tensorflow-probability==0.19.0\n",
            "termcolor==2.2.0\n",
            "terminado==0.17.1\n",
            "text-unidecode==1.3\n",
            "textblob==0.17.1\n",
            "thinc==8.1.9\n",
            "threadpoolctl==3.1.0\n",
            "tifffile==2023.3.15\n",
            "tinycss2==1.2.1\n",
            "toml==0.10.2\n",
            "tomli==2.0.1\n",
            "toolz==0.12.0\n",
            "torch @ https://download.pytorch.org/whl/cu116/torch-1.13.1%2Bcu116-cp39-cp39-linux_x86_64.whl\n",
            "torchaudio @ https://download.pytorch.org/whl/cu116/torchaudio-0.13.1%2Bcu116-cp39-cp39-linux_x86_64.whl\n",
            "torchsummary==1.5.1\n",
            "torchtext==0.14.1\n",
            "torchvision @ https://download.pytorch.org/whl/cu116/torchvision-0.14.1%2Bcu116-cp39-cp39-linux_x86_64.whl\n",
            "tornado==6.2\n",
            "tqdm==4.65.0\n",
            "traitlets==5.7.1\n",
            "tweepy==4.13.0\n",
            "typer==0.7.0\n",
            "typing_extensions==4.5.0\n",
            "tzdata==2022.7\n",
            "tzlocal==4.2\n",
            "uritemplate==4.1.1\n",
            "urllib3==1.26.15\n",
            "vega-datasets==0.9.0\n",
            "visions==0.7.4\n",
            "wasabi==1.1.1\n",
            "wcwidth==0.2.6\n",
            "webencodings==0.5.1\n",
            "Werkzeug==2.2.3\n",
            "widgetsnbextension==3.6.2\n",
            "wordcloud==1.8.2.2\n",
            "wrapt==1.15.0\n",
            "xarray==2022.12.0\n",
            "xarray-einstats==0.5.1\n",
            "xgboost==1.7.4\n",
            "xkit==0.0.0\n",
            "xlrd==2.0.1\n",
            "xlwt==1.3.0\n",
            "yellowbrick==1.5\n",
            "zict==2.2.0\n",
            "zipp==3.15.0\n"
          ]
        }
      ]
    },
    {
      "cell_type": "code",
      "source": [
        "%pip freeze"
      ],
      "metadata": {
        "id": "v82X5ldzJAOC"
      },
      "execution_count": null,
      "outputs": []
    },
    {
      "cell_type": "code",
      "source": [
        "!pip install pytrends"
      ],
      "metadata": {
        "colab": {
          "base_uri": "https://localhost:8080/"
        },
        "id": "195Q1Jb8JFcD",
        "outputId": "d561d2ed-7576-4895-c410-9c54345e43c8"
      },
      "execution_count": null,
      "outputs": [
        {
          "output_type": "stream",
          "name": "stdout",
          "text": [
            "Looking in indexes: https://pypi.org/simple, https://us-python.pkg.dev/colab-wheels/public/simple/\n",
            "Collecting pytrends\n",
            "  Downloading pytrends-4.9.0-py3-none-any.whl (15 kB)\n",
            "Requirement already satisfied: lxml in /usr/local/lib/python3.9/dist-packages (from pytrends) (4.9.2)\n",
            "Requirement already satisfied: requests>=2.0 in /usr/local/lib/python3.9/dist-packages (from pytrends) (2.25.1)\n",
            "Requirement already satisfied: pandas>=0.25 in /usr/local/lib/python3.9/dist-packages (from pytrends) (1.4.4)\n",
            "Requirement already satisfied: numpy>=1.18.5 in /usr/local/lib/python3.9/dist-packages (from pandas>=0.25->pytrends) (1.22.4)\n",
            "Requirement already satisfied: python-dateutil>=2.8.1 in /usr/local/lib/python3.9/dist-packages (from pandas>=0.25->pytrends) (2.8.2)\n",
            "Requirement already satisfied: pytz>=2020.1 in /usr/local/lib/python3.9/dist-packages (from pandas>=0.25->pytrends) (2022.7.1)\n",
            "Requirement already satisfied: certifi>=2017.4.17 in /usr/local/lib/python3.9/dist-packages (from requests>=2.0->pytrends) (2022.12.7)\n",
            "Requirement already satisfied: idna<3,>=2.5 in /usr/local/lib/python3.9/dist-packages (from requests>=2.0->pytrends) (2.10)\n",
            "Requirement already satisfied: chardet<5,>=3.0.2 in /usr/local/lib/python3.9/dist-packages (from requests>=2.0->pytrends) (4.0.0)\n",
            "Requirement already satisfied: urllib3<1.27,>=1.21.1 in /usr/local/lib/python3.9/dist-packages (from requests>=2.0->pytrends) (1.26.15)\n",
            "Requirement already satisfied: six>=1.5 in /usr/local/lib/python3.9/dist-packages (from python-dateutil>=2.8.1->pandas>=0.25->pytrends) (1.15.0)\n",
            "Installing collected packages: pytrends\n",
            "Successfully installed pytrends-4.9.0\n"
          ]
        }
      ]
    },
    {
      "cell_type": "code",
      "source": [
        "from google.colab import files\n",
        "uploaded = files.upload()"
      ],
      "metadata": {
        "colab": {
          "base_uri": "https://localhost:8080/",
          "height": 38
        },
        "id": "-weXzAmXJJvL",
        "outputId": "a754ad3a-84ca-43cb-924d-9d8b2708b382"
      },
      "execution_count": 25,
      "outputs": [
        {
          "output_type": "display_data",
          "data": {
            "text/plain": [
              "<IPython.core.display.HTML object>"
            ],
            "text/html": [
              "\n",
              "     <input type=\"file\" id=\"files-d6c9e3d5-47d5-4d41-80b4-bd14bd7eb9b8\" name=\"files[]\" multiple disabled\n",
              "        style=\"border:none\" />\n",
              "     <output id=\"result-d6c9e3d5-47d5-4d41-80b4-bd14bd7eb9b8\">\n",
              "      Upload widget is only available when the cell has been executed in the\n",
              "      current browser session. Please rerun this cell to enable.\n",
              "      </output>\n",
              "      <script>// Copyright 2017 Google LLC\n",
              "//\n",
              "// Licensed under the Apache License, Version 2.0 (the \"License\");\n",
              "// you may not use this file except in compliance with the License.\n",
              "// You may obtain a copy of the License at\n",
              "//\n",
              "//      http://www.apache.org/licenses/LICENSE-2.0\n",
              "//\n",
              "// Unless required by applicable law or agreed to in writing, software\n",
              "// distributed under the License is distributed on an \"AS IS\" BASIS,\n",
              "// WITHOUT WARRANTIES OR CONDITIONS OF ANY KIND, either express or implied.\n",
              "// See the License for the specific language governing permissions and\n",
              "// limitations under the License.\n",
              "\n",
              "/**\n",
              " * @fileoverview Helpers for google.colab Python module.\n",
              " */\n",
              "(function(scope) {\n",
              "function span(text, styleAttributes = {}) {\n",
              "  const element = document.createElement('span');\n",
              "  element.textContent = text;\n",
              "  for (const key of Object.keys(styleAttributes)) {\n",
              "    element.style[key] = styleAttributes[key];\n",
              "  }\n",
              "  return element;\n",
              "}\n",
              "\n",
              "// Max number of bytes which will be uploaded at a time.\n",
              "const MAX_PAYLOAD_SIZE = 100 * 1024;\n",
              "\n",
              "function _uploadFiles(inputId, outputId) {\n",
              "  const steps = uploadFilesStep(inputId, outputId);\n",
              "  const outputElement = document.getElementById(outputId);\n",
              "  // Cache steps on the outputElement to make it available for the next call\n",
              "  // to uploadFilesContinue from Python.\n",
              "  outputElement.steps = steps;\n",
              "\n",
              "  return _uploadFilesContinue(outputId);\n",
              "}\n",
              "\n",
              "// This is roughly an async generator (not supported in the browser yet),\n",
              "// where there are multiple asynchronous steps and the Python side is going\n",
              "// to poll for completion of each step.\n",
              "// This uses a Promise to block the python side on completion of each step,\n",
              "// then passes the result of the previous step as the input to the next step.\n",
              "function _uploadFilesContinue(outputId) {\n",
              "  const outputElement = document.getElementById(outputId);\n",
              "  const steps = outputElement.steps;\n",
              "\n",
              "  const next = steps.next(outputElement.lastPromiseValue);\n",
              "  return Promise.resolve(next.value.promise).then((value) => {\n",
              "    // Cache the last promise value to make it available to the next\n",
              "    // step of the generator.\n",
              "    outputElement.lastPromiseValue = value;\n",
              "    return next.value.response;\n",
              "  });\n",
              "}\n",
              "\n",
              "/**\n",
              " * Generator function which is called between each async step of the upload\n",
              " * process.\n",
              " * @param {string} inputId Element ID of the input file picker element.\n",
              " * @param {string} outputId Element ID of the output display.\n",
              " * @return {!Iterable<!Object>} Iterable of next steps.\n",
              " */\n",
              "function* uploadFilesStep(inputId, outputId) {\n",
              "  const inputElement = document.getElementById(inputId);\n",
              "  inputElement.disabled = false;\n",
              "\n",
              "  const outputElement = document.getElementById(outputId);\n",
              "  outputElement.innerHTML = '';\n",
              "\n",
              "  const pickedPromise = new Promise((resolve) => {\n",
              "    inputElement.addEventListener('change', (e) => {\n",
              "      resolve(e.target.files);\n",
              "    });\n",
              "  });\n",
              "\n",
              "  const cancel = document.createElement('button');\n",
              "  inputElement.parentElement.appendChild(cancel);\n",
              "  cancel.textContent = 'Cancel upload';\n",
              "  const cancelPromise = new Promise((resolve) => {\n",
              "    cancel.onclick = () => {\n",
              "      resolve(null);\n",
              "    };\n",
              "  });\n",
              "\n",
              "  // Wait for the user to pick the files.\n",
              "  const files = yield {\n",
              "    promise: Promise.race([pickedPromise, cancelPromise]),\n",
              "    response: {\n",
              "      action: 'starting',\n",
              "    }\n",
              "  };\n",
              "\n",
              "  cancel.remove();\n",
              "\n",
              "  // Disable the input element since further picks are not allowed.\n",
              "  inputElement.disabled = true;\n",
              "\n",
              "  if (!files) {\n",
              "    return {\n",
              "      response: {\n",
              "        action: 'complete',\n",
              "      }\n",
              "    };\n",
              "  }\n",
              "\n",
              "  for (const file of files) {\n",
              "    const li = document.createElement('li');\n",
              "    li.append(span(file.name, {fontWeight: 'bold'}));\n",
              "    li.append(span(\n",
              "        `(${file.type || 'n/a'}) - ${file.size} bytes, ` +\n",
              "        `last modified: ${\n",
              "            file.lastModifiedDate ? file.lastModifiedDate.toLocaleDateString() :\n",
              "                                    'n/a'} - `));\n",
              "    const percent = span('0% done');\n",
              "    li.appendChild(percent);\n",
              "\n",
              "    outputElement.appendChild(li);\n",
              "\n",
              "    const fileDataPromise = new Promise((resolve) => {\n",
              "      const reader = new FileReader();\n",
              "      reader.onload = (e) => {\n",
              "        resolve(e.target.result);\n",
              "      };\n",
              "      reader.readAsArrayBuffer(file);\n",
              "    });\n",
              "    // Wait for the data to be ready.\n",
              "    let fileData = yield {\n",
              "      promise: fileDataPromise,\n",
              "      response: {\n",
              "        action: 'continue',\n",
              "      }\n",
              "    };\n",
              "\n",
              "    // Use a chunked sending to avoid message size limits. See b/62115660.\n",
              "    let position = 0;\n",
              "    do {\n",
              "      const length = Math.min(fileData.byteLength - position, MAX_PAYLOAD_SIZE);\n",
              "      const chunk = new Uint8Array(fileData, position, length);\n",
              "      position += length;\n",
              "\n",
              "      const base64 = btoa(String.fromCharCode.apply(null, chunk));\n",
              "      yield {\n",
              "        response: {\n",
              "          action: 'append',\n",
              "          file: file.name,\n",
              "          data: base64,\n",
              "        },\n",
              "      };\n",
              "\n",
              "      let percentDone = fileData.byteLength === 0 ?\n",
              "          100 :\n",
              "          Math.round((position / fileData.byteLength) * 100);\n",
              "      percent.textContent = `${percentDone}% done`;\n",
              "\n",
              "    } while (position < fileData.byteLength);\n",
              "  }\n",
              "\n",
              "  // All done.\n",
              "  yield {\n",
              "    response: {\n",
              "      action: 'complete',\n",
              "    }\n",
              "  };\n",
              "}\n",
              "\n",
              "scope.google = scope.google || {};\n",
              "scope.google.colab = scope.google.colab || {};\n",
              "scope.google.colab._files = {\n",
              "  _uploadFiles,\n",
              "  _uploadFilesContinue,\n",
              "};\n",
              "})(self);\n",
              "</script> "
            ]
          },
          "metadata": {}
        }
      ]
    },
    {
      "cell_type": "code",
      "source": [
        "from google.colab import files\n",
        "uploaded1 = files.upload()"
      ],
      "metadata": {
        "colab": {
          "base_uri": "https://localhost:8080/",
          "height": 38
        },
        "id": "bmGF0eUUJLTW",
        "outputId": "e0751d3c-943a-496c-d9f7-058ae9279bf0"
      },
      "execution_count": 26,
      "outputs": [
        {
          "output_type": "display_data",
          "data": {
            "text/plain": [
              "<IPython.core.display.HTML object>"
            ],
            "text/html": [
              "\n",
              "     <input type=\"file\" id=\"files-f2da4ffe-4b6e-464a-9ab7-693f13c8fd2d\" name=\"files[]\" multiple disabled\n",
              "        style=\"border:none\" />\n",
              "     <output id=\"result-f2da4ffe-4b6e-464a-9ab7-693f13c8fd2d\">\n",
              "      Upload widget is only available when the cell has been executed in the\n",
              "      current browser session. Please rerun this cell to enable.\n",
              "      </output>\n",
              "      <script>// Copyright 2017 Google LLC\n",
              "//\n",
              "// Licensed under the Apache License, Version 2.0 (the \"License\");\n",
              "// you may not use this file except in compliance with the License.\n",
              "// You may obtain a copy of the License at\n",
              "//\n",
              "//      http://www.apache.org/licenses/LICENSE-2.0\n",
              "//\n",
              "// Unless required by applicable law or agreed to in writing, software\n",
              "// distributed under the License is distributed on an \"AS IS\" BASIS,\n",
              "// WITHOUT WARRANTIES OR CONDITIONS OF ANY KIND, either express or implied.\n",
              "// See the License for the specific language governing permissions and\n",
              "// limitations under the License.\n",
              "\n",
              "/**\n",
              " * @fileoverview Helpers for google.colab Python module.\n",
              " */\n",
              "(function(scope) {\n",
              "function span(text, styleAttributes = {}) {\n",
              "  const element = document.createElement('span');\n",
              "  element.textContent = text;\n",
              "  for (const key of Object.keys(styleAttributes)) {\n",
              "    element.style[key] = styleAttributes[key];\n",
              "  }\n",
              "  return element;\n",
              "}\n",
              "\n",
              "// Max number of bytes which will be uploaded at a time.\n",
              "const MAX_PAYLOAD_SIZE = 100 * 1024;\n",
              "\n",
              "function _uploadFiles(inputId, outputId) {\n",
              "  const steps = uploadFilesStep(inputId, outputId);\n",
              "  const outputElement = document.getElementById(outputId);\n",
              "  // Cache steps on the outputElement to make it available for the next call\n",
              "  // to uploadFilesContinue from Python.\n",
              "  outputElement.steps = steps;\n",
              "\n",
              "  return _uploadFilesContinue(outputId);\n",
              "}\n",
              "\n",
              "// This is roughly an async generator (not supported in the browser yet),\n",
              "// where there are multiple asynchronous steps and the Python side is going\n",
              "// to poll for completion of each step.\n",
              "// This uses a Promise to block the python side on completion of each step,\n",
              "// then passes the result of the previous step as the input to the next step.\n",
              "function _uploadFilesContinue(outputId) {\n",
              "  const outputElement = document.getElementById(outputId);\n",
              "  const steps = outputElement.steps;\n",
              "\n",
              "  const next = steps.next(outputElement.lastPromiseValue);\n",
              "  return Promise.resolve(next.value.promise).then((value) => {\n",
              "    // Cache the last promise value to make it available to the next\n",
              "    // step of the generator.\n",
              "    outputElement.lastPromiseValue = value;\n",
              "    return next.value.response;\n",
              "  });\n",
              "}\n",
              "\n",
              "/**\n",
              " * Generator function which is called between each async step of the upload\n",
              " * process.\n",
              " * @param {string} inputId Element ID of the input file picker element.\n",
              " * @param {string} outputId Element ID of the output display.\n",
              " * @return {!Iterable<!Object>} Iterable of next steps.\n",
              " */\n",
              "function* uploadFilesStep(inputId, outputId) {\n",
              "  const inputElement = document.getElementById(inputId);\n",
              "  inputElement.disabled = false;\n",
              "\n",
              "  const outputElement = document.getElementById(outputId);\n",
              "  outputElement.innerHTML = '';\n",
              "\n",
              "  const pickedPromise = new Promise((resolve) => {\n",
              "    inputElement.addEventListener('change', (e) => {\n",
              "      resolve(e.target.files);\n",
              "    });\n",
              "  });\n",
              "\n",
              "  const cancel = document.createElement('button');\n",
              "  inputElement.parentElement.appendChild(cancel);\n",
              "  cancel.textContent = 'Cancel upload';\n",
              "  const cancelPromise = new Promise((resolve) => {\n",
              "    cancel.onclick = () => {\n",
              "      resolve(null);\n",
              "    };\n",
              "  });\n",
              "\n",
              "  // Wait for the user to pick the files.\n",
              "  const files = yield {\n",
              "    promise: Promise.race([pickedPromise, cancelPromise]),\n",
              "    response: {\n",
              "      action: 'starting',\n",
              "    }\n",
              "  };\n",
              "\n",
              "  cancel.remove();\n",
              "\n",
              "  // Disable the input element since further picks are not allowed.\n",
              "  inputElement.disabled = true;\n",
              "\n",
              "  if (!files) {\n",
              "    return {\n",
              "      response: {\n",
              "        action: 'complete',\n",
              "      }\n",
              "    };\n",
              "  }\n",
              "\n",
              "  for (const file of files) {\n",
              "    const li = document.createElement('li');\n",
              "    li.append(span(file.name, {fontWeight: 'bold'}));\n",
              "    li.append(span(\n",
              "        `(${file.type || 'n/a'}) - ${file.size} bytes, ` +\n",
              "        `last modified: ${\n",
              "            file.lastModifiedDate ? file.lastModifiedDate.toLocaleDateString() :\n",
              "                                    'n/a'} - `));\n",
              "    const percent = span('0% done');\n",
              "    li.appendChild(percent);\n",
              "\n",
              "    outputElement.appendChild(li);\n",
              "\n",
              "    const fileDataPromise = new Promise((resolve) => {\n",
              "      const reader = new FileReader();\n",
              "      reader.onload = (e) => {\n",
              "        resolve(e.target.result);\n",
              "      };\n",
              "      reader.readAsArrayBuffer(file);\n",
              "    });\n",
              "    // Wait for the data to be ready.\n",
              "    let fileData = yield {\n",
              "      promise: fileDataPromise,\n",
              "      response: {\n",
              "        action: 'continue',\n",
              "      }\n",
              "    };\n",
              "\n",
              "    // Use a chunked sending to avoid message size limits. See b/62115660.\n",
              "    let position = 0;\n",
              "    do {\n",
              "      const length = Math.min(fileData.byteLength - position, MAX_PAYLOAD_SIZE);\n",
              "      const chunk = new Uint8Array(fileData, position, length);\n",
              "      position += length;\n",
              "\n",
              "      const base64 = btoa(String.fromCharCode.apply(null, chunk));\n",
              "      yield {\n",
              "        response: {\n",
              "          action: 'append',\n",
              "          file: file.name,\n",
              "          data: base64,\n",
              "        },\n",
              "      };\n",
              "\n",
              "      let percentDone = fileData.byteLength === 0 ?\n",
              "          100 :\n",
              "          Math.round((position / fileData.byteLength) * 100);\n",
              "      percent.textContent = `${percentDone}% done`;\n",
              "\n",
              "    } while (position < fileData.byteLength);\n",
              "  }\n",
              "\n",
              "  // All done.\n",
              "  yield {\n",
              "    response: {\n",
              "      action: 'complete',\n",
              "    }\n",
              "  };\n",
              "}\n",
              "\n",
              "scope.google = scope.google || {};\n",
              "scope.google.colab = scope.google.colab || {};\n",
              "scope.google.colab._files = {\n",
              "  _uploadFiles,\n",
              "  _uploadFilesContinue,\n",
              "};\n",
              "})(self);\n",
              "</script> "
            ]
          },
          "metadata": {}
        }
      ]
    },
    {
      "cell_type": "code",
      "source": [
        "import io\n",
        "df = pd.read_excel(io.BytesIO(uploaded1['Health report .xlsx']))\n",
        "df"
      ],
      "metadata": {
        "colab": {
          "base_uri": "https://localhost:8080/",
          "height": 200
        },
        "id": "6zTAjQXbJMlo",
        "outputId": "2c199eae-5466-4820-99c7-c5388f002a49"
      },
      "execution_count": 28,
      "outputs": [
        {
          "output_type": "error",
          "ename": "KeyError",
          "evalue": "ignored",
          "traceback": [
            "\u001b[0;31m---------------------------------------------------------------------------\u001b[0m",
            "\u001b[0;31mKeyError\u001b[0m                                  Traceback (most recent call last)",
            "\u001b[0;32m<ipython-input-28-fe1bdc9dc8fb>\u001b[0m in \u001b[0;36m<module>\u001b[0;34m\u001b[0m\n\u001b[1;32m      1\u001b[0m \u001b[0;32mimport\u001b[0m \u001b[0mio\u001b[0m\u001b[0;34m\u001b[0m\u001b[0;34m\u001b[0m\u001b[0m\n\u001b[0;32m----> 2\u001b[0;31m \u001b[0mdf\u001b[0m \u001b[0;34m=\u001b[0m \u001b[0mpd\u001b[0m\u001b[0;34m.\u001b[0m\u001b[0mread_excel\u001b[0m\u001b[0;34m(\u001b[0m\u001b[0mio\u001b[0m\u001b[0;34m.\u001b[0m\u001b[0mBytesIO\u001b[0m\u001b[0;34m(\u001b[0m\u001b[0muploaded1\u001b[0m\u001b[0;34m[\u001b[0m\u001b[0;34m'Health report .xlsx'\u001b[0m\u001b[0;34m]\u001b[0m\u001b[0;34m)\u001b[0m\u001b[0;34m)\u001b[0m\u001b[0;34m\u001b[0m\u001b[0;34m\u001b[0m\u001b[0m\n\u001b[0m\u001b[1;32m      3\u001b[0m \u001b[0mdf\u001b[0m\u001b[0;34m\u001b[0m\u001b[0;34m\u001b[0m\u001b[0m\n",
            "\u001b[0;31mKeyError\u001b[0m: 'Health report .xlsx'"
          ]
        }
      ]
    },
    {
      "cell_type": "code",
      "source": [
        "import json\n",
        "import itertools\n",
        "import pandas as pd\n",
        "import numpy as np"
      ],
      "metadata": {
        "id": "Stn9FDWiJNyK"
      },
      "execution_count": null,
      "outputs": []
    },
    {
      "cell_type": "code",
      "source": [
        "Foodh = df.groupby('Food')"
      ],
      "metadata": {
        "id": "E3NLfybDJPm6"
      },
      "execution_count": null,
      "outputs": []
    },
    {
      "cell_type": "code",
      "source": [
        "Foodh.first()"
      ],
      "metadata": {
        "colab": {
          "base_uri": "https://localhost:8080/",
          "height": 394
        },
        "id": "NRR8-EJRJRES",
        "outputId": "234cf6cc-49d7-4ae4-c061-72ee62bd335a"
      },
      "execution_count": null,
      "outputs": [
        {
          "output_type": "execute_result",
          "data": {
            "text/plain": [
              "                                                        Dieses \n",
              "Food                                                           \n",
              "Baked Potato                                      Hart Diseases\n",
              "Burger                                            Hart Diseases\n",
              "Crispy Chicken                                    Hart Diseases\n",
              "Donut                                            Type 2 diabets\n",
              "Fries                                             Hart Diseases\n",
              "Hot Dog                                                 obesity\n",
              "Pizza           heart problems (such as cardiovascular disease)\n",
              "Sandwich                                        certain cancers\n",
              "Taco                                               osteoporosis\n",
              "Taquito                                        eating disorders"
            ],
            "text/html": [
              "\n",
              "  <div id=\"df-e9f82043-5394-4f84-b754-21990880307e\">\n",
              "    <div class=\"colab-df-container\">\n",
              "      <div>\n",
              "<style scoped>\n",
              "    .dataframe tbody tr th:only-of-type {\n",
              "        vertical-align: middle;\n",
              "    }\n",
              "\n",
              "    .dataframe tbody tr th {\n",
              "        vertical-align: top;\n",
              "    }\n",
              "\n",
              "    .dataframe thead th {\n",
              "        text-align: right;\n",
              "    }\n",
              "</style>\n",
              "<table border=\"1\" class=\"dataframe\">\n",
              "  <thead>\n",
              "    <tr style=\"text-align: right;\">\n",
              "      <th></th>\n",
              "      <th>Dieses</th>\n",
              "    </tr>\n",
              "    <tr>\n",
              "      <th>Food</th>\n",
              "      <th></th>\n",
              "    </tr>\n",
              "  </thead>\n",
              "  <tbody>\n",
              "    <tr>\n",
              "      <th>Baked Potato</th>\n",
              "      <td>Hart Diseases</td>\n",
              "    </tr>\n",
              "    <tr>\n",
              "      <th>Burger</th>\n",
              "      <td>Hart Diseases</td>\n",
              "    </tr>\n",
              "    <tr>\n",
              "      <th>Crispy Chicken</th>\n",
              "      <td>Hart Diseases</td>\n",
              "    </tr>\n",
              "    <tr>\n",
              "      <th>Donut</th>\n",
              "      <td>Type 2 diabets</td>\n",
              "    </tr>\n",
              "    <tr>\n",
              "      <th>Fries</th>\n",
              "      <td>Hart Diseases</td>\n",
              "    </tr>\n",
              "    <tr>\n",
              "      <th>Hot Dog</th>\n",
              "      <td>obesity</td>\n",
              "    </tr>\n",
              "    <tr>\n",
              "      <th>Pizza</th>\n",
              "      <td>heart problems (such as cardiovascular disease)</td>\n",
              "    </tr>\n",
              "    <tr>\n",
              "      <th>Sandwich</th>\n",
              "      <td>certain cancers</td>\n",
              "    </tr>\n",
              "    <tr>\n",
              "      <th>Taco</th>\n",
              "      <td>osteoporosis</td>\n",
              "    </tr>\n",
              "    <tr>\n",
              "      <th>Taquito</th>\n",
              "      <td>eating disorders</td>\n",
              "    </tr>\n",
              "  </tbody>\n",
              "</table>\n",
              "</div>\n",
              "      <button class=\"colab-df-convert\" onclick=\"convertToInteractive('df-e9f82043-5394-4f84-b754-21990880307e')\"\n",
              "              title=\"Convert this dataframe to an interactive table.\"\n",
              "              style=\"display:none;\">\n",
              "        \n",
              "  <svg xmlns=\"http://www.w3.org/2000/svg\" height=\"24px\"viewBox=\"0 0 24 24\"\n",
              "       width=\"24px\">\n",
              "    <path d=\"M0 0h24v24H0V0z\" fill=\"none\"/>\n",
              "    <path d=\"M18.56 5.44l.94 2.06.94-2.06 2.06-.94-2.06-.94-.94-2.06-.94 2.06-2.06.94zm-11 1L8.5 8.5l.94-2.06 2.06-.94-2.06-.94L8.5 2.5l-.94 2.06-2.06.94zm10 10l.94 2.06.94-2.06 2.06-.94-2.06-.94-.94-2.06-.94 2.06-2.06.94z\"/><path d=\"M17.41 7.96l-1.37-1.37c-.4-.4-.92-.59-1.43-.59-.52 0-1.04.2-1.43.59L10.3 9.45l-7.72 7.72c-.78.78-.78 2.05 0 2.83L4 21.41c.39.39.9.59 1.41.59.51 0 1.02-.2 1.41-.59l7.78-7.78 2.81-2.81c.8-.78.8-2.07 0-2.86zM5.41 20L4 18.59l7.72-7.72 1.47 1.35L5.41 20z\"/>\n",
              "  </svg>\n",
              "      </button>\n",
              "      \n",
              "  <style>\n",
              "    .colab-df-container {\n",
              "      display:flex;\n",
              "      flex-wrap:wrap;\n",
              "      gap: 12px;\n",
              "    }\n",
              "\n",
              "    .colab-df-convert {\n",
              "      background-color: #E8F0FE;\n",
              "      border: none;\n",
              "      border-radius: 50%;\n",
              "      cursor: pointer;\n",
              "      display: none;\n",
              "      fill: #1967D2;\n",
              "      height: 32px;\n",
              "      padding: 0 0 0 0;\n",
              "      width: 32px;\n",
              "    }\n",
              "\n",
              "    .colab-df-convert:hover {\n",
              "      background-color: #E2EBFA;\n",
              "      box-shadow: 0px 1px 2px rgba(60, 64, 67, 0.3), 0px 1px 3px 1px rgba(60, 64, 67, 0.15);\n",
              "      fill: #174EA6;\n",
              "    }\n",
              "\n",
              "    [theme=dark] .colab-df-convert {\n",
              "      background-color: #3B4455;\n",
              "      fill: #D2E3FC;\n",
              "    }\n",
              "\n",
              "    [theme=dark] .colab-df-convert:hover {\n",
              "      background-color: #434B5C;\n",
              "      box-shadow: 0px 1px 3px 1px rgba(0, 0, 0, 0.15);\n",
              "      filter: drop-shadow(0px 1px 2px rgba(0, 0, 0, 0.3));\n",
              "      fill: #FFFFFF;\n",
              "    }\n",
              "  </style>\n",
              "\n",
              "      <script>\n",
              "        const buttonEl =\n",
              "          document.querySelector('#df-e9f82043-5394-4f84-b754-21990880307e button.colab-df-convert');\n",
              "        buttonEl.style.display =\n",
              "          google.colab.kernel.accessAllowed ? 'block' : 'none';\n",
              "\n",
              "        async function convertToInteractive(key) {\n",
              "          const element = document.querySelector('#df-e9f82043-5394-4f84-b754-21990880307e');\n",
              "          const dataTable =\n",
              "            await google.colab.kernel.invokeFunction('convertToInteractive',\n",
              "                                                     [key], {});\n",
              "          if (!dataTable) return;\n",
              "\n",
              "          const docLinkHtml = 'Like what you see? Visit the ' +\n",
              "            '<a target=\"_blank\" href=https://colab.research.google.com/notebooks/data_table.ipynb>data table notebook</a>'\n",
              "            + ' to learn more about interactive tables.';\n",
              "          element.innerHTML = '';\n",
              "          dataTable['output_type'] = 'display_data';\n",
              "          await google.colab.output.renderOutput(dataTable, element);\n",
              "          const docLink = document.createElement('div');\n",
              "          docLink.innerHTML = docLinkHtml;\n",
              "          element.appendChild(docLink);\n",
              "        }\n",
              "      </script>\n",
              "    </div>\n",
              "  </div>\n",
              "  "
            ]
          },
          "metadata": {},
          "execution_count": 49
        }
      ]
    },
    {
      "cell_type": "code",
      "source": [
        "Foodh.get_group(food)"
      ],
      "metadata": {
        "colab": {
          "base_uri": "https://localhost:8080/",
          "height": 206
        },
        "id": "LiL8i3DNJSfg",
        "outputId": "5a96baa6-cbf6-4f17-e743-881102a396b7"
      },
      "execution_count": null,
      "outputs": [
        {
          "output_type": "execute_result",
          "data": {
            "text/plain": [
              "     Food         Dieses \n",
              "17  Fries   Hart Diseases\n",
              "18  Fries         Cancer \n",
              "19  Fries  Blood pressure\n",
              "20  Fries      Depression\n",
              "21  Fries    Osteoporosis"
            ],
            "text/html": [
              "\n",
              "  <div id=\"df-9f14f664-3d8c-4c73-a797-0f29471a8b65\">\n",
              "    <div class=\"colab-df-container\">\n",
              "      <div>\n",
              "<style scoped>\n",
              "    .dataframe tbody tr th:only-of-type {\n",
              "        vertical-align: middle;\n",
              "    }\n",
              "\n",
              "    .dataframe tbody tr th {\n",
              "        vertical-align: top;\n",
              "    }\n",
              "\n",
              "    .dataframe thead th {\n",
              "        text-align: right;\n",
              "    }\n",
              "</style>\n",
              "<table border=\"1\" class=\"dataframe\">\n",
              "  <thead>\n",
              "    <tr style=\"text-align: right;\">\n",
              "      <th></th>\n",
              "      <th>Food</th>\n",
              "      <th>Dieses</th>\n",
              "    </tr>\n",
              "  </thead>\n",
              "  <tbody>\n",
              "    <tr>\n",
              "      <th>17</th>\n",
              "      <td>Fries</td>\n",
              "      <td>Hart Diseases</td>\n",
              "    </tr>\n",
              "    <tr>\n",
              "      <th>18</th>\n",
              "      <td>Fries</td>\n",
              "      <td>Cancer</td>\n",
              "    </tr>\n",
              "    <tr>\n",
              "      <th>19</th>\n",
              "      <td>Fries</td>\n",
              "      <td>Blood pressure</td>\n",
              "    </tr>\n",
              "    <tr>\n",
              "      <th>20</th>\n",
              "      <td>Fries</td>\n",
              "      <td>Depression</td>\n",
              "    </tr>\n",
              "    <tr>\n",
              "      <th>21</th>\n",
              "      <td>Fries</td>\n",
              "      <td>Osteoporosis</td>\n",
              "    </tr>\n",
              "  </tbody>\n",
              "</table>\n",
              "</div>\n",
              "      <button class=\"colab-df-convert\" onclick=\"convertToInteractive('df-9f14f664-3d8c-4c73-a797-0f29471a8b65')\"\n",
              "              title=\"Convert this dataframe to an interactive table.\"\n",
              "              style=\"display:none;\">\n",
              "        \n",
              "  <svg xmlns=\"http://www.w3.org/2000/svg\" height=\"24px\"viewBox=\"0 0 24 24\"\n",
              "       width=\"24px\">\n",
              "    <path d=\"M0 0h24v24H0V0z\" fill=\"none\"/>\n",
              "    <path d=\"M18.56 5.44l.94 2.06.94-2.06 2.06-.94-2.06-.94-.94-2.06-.94 2.06-2.06.94zm-11 1L8.5 8.5l.94-2.06 2.06-.94-2.06-.94L8.5 2.5l-.94 2.06-2.06.94zm10 10l.94 2.06.94-2.06 2.06-.94-2.06-.94-.94-2.06-.94 2.06-2.06.94z\"/><path d=\"M17.41 7.96l-1.37-1.37c-.4-.4-.92-.59-1.43-.59-.52 0-1.04.2-1.43.59L10.3 9.45l-7.72 7.72c-.78.78-.78 2.05 0 2.83L4 21.41c.39.39.9.59 1.41.59.51 0 1.02-.2 1.41-.59l7.78-7.78 2.81-2.81c.8-.78.8-2.07 0-2.86zM5.41 20L4 18.59l7.72-7.72 1.47 1.35L5.41 20z\"/>\n",
              "  </svg>\n",
              "      </button>\n",
              "      \n",
              "  <style>\n",
              "    .colab-df-container {\n",
              "      display:flex;\n",
              "      flex-wrap:wrap;\n",
              "      gap: 12px;\n",
              "    }\n",
              "\n",
              "    .colab-df-convert {\n",
              "      background-color: #E8F0FE;\n",
              "      border: none;\n",
              "      border-radius: 50%;\n",
              "      cursor: pointer;\n",
              "      display: none;\n",
              "      fill: #1967D2;\n",
              "      height: 32px;\n",
              "      padding: 0 0 0 0;\n",
              "      width: 32px;\n",
              "    }\n",
              "\n",
              "    .colab-df-convert:hover {\n",
              "      background-color: #E2EBFA;\n",
              "      box-shadow: 0px 1px 2px rgba(60, 64, 67, 0.3), 0px 1px 3px 1px rgba(60, 64, 67, 0.15);\n",
              "      fill: #174EA6;\n",
              "    }\n",
              "\n",
              "    [theme=dark] .colab-df-convert {\n",
              "      background-color: #3B4455;\n",
              "      fill: #D2E3FC;\n",
              "    }\n",
              "\n",
              "    [theme=dark] .colab-df-convert:hover {\n",
              "      background-color: #434B5C;\n",
              "      box-shadow: 0px 1px 3px 1px rgba(0, 0, 0, 0.15);\n",
              "      filter: drop-shadow(0px 1px 2px rgba(0, 0, 0, 0.3));\n",
              "      fill: #FFFFFF;\n",
              "    }\n",
              "  </style>\n",
              "\n",
              "      <script>\n",
              "        const buttonEl =\n",
              "          document.querySelector('#df-9f14f664-3d8c-4c73-a797-0f29471a8b65 button.colab-df-convert');\n",
              "        buttonEl.style.display =\n",
              "          google.colab.kernel.accessAllowed ? 'block' : 'none';\n",
              "\n",
              "        async function convertToInteractive(key) {\n",
              "          const element = document.querySelector('#df-9f14f664-3d8c-4c73-a797-0f29471a8b65');\n",
              "          const dataTable =\n",
              "            await google.colab.kernel.invokeFunction('convertToInteractive',\n",
              "                                                     [key], {});\n",
              "          if (!dataTable) return;\n",
              "\n",
              "          const docLinkHtml = 'Like what you see? Visit the ' +\n",
              "            '<a target=\"_blank\" href=https://colab.research.google.com/notebooks/data_table.ipynb>data table notebook</a>'\n",
              "            + ' to learn more about interactive tables.';\n",
              "          element.innerHTML = '';\n",
              "          dataTable['output_type'] = 'display_data';\n",
              "          await google.colab.output.renderOutput(dataTable, element);\n",
              "          const docLink = document.createElement('div');\n",
              "          docLink.innerHTML = docLinkHtml;\n",
              "          element.appendChild(docLink);\n",
              "        }\n",
              "      </script>\n",
              "    </div>\n",
              "  </div>\n",
              "  "
            ]
          },
          "metadata": {},
          "execution_count": 50
        }
      ]
    },
    {
      "cell_type": "code",
      "source": [
        "import io\n",
        "df1 = pd.read_excel(io.BytesIO(uploaded['nutrition.xlsx']))\n",
        "df1"
      ],
      "metadata": {
        "colab": {
          "base_uri": "https://localhost:8080/",
          "height": 476
        },
        "id": "CV7s00oeJT6L",
        "outputId": "5d2ad573-53f1-4a74-cd9a-ce2464a56a57"
      },
      "execution_count": null,
      "outputs": [
        {
          "output_type": "execute_result",
          "data": {
            "text/plain": [
              "            Items Per Serve Size Energy (kCal) Protein (g) Total fat (g)  \\\n",
              "0          Burger          168 g        402.05       10.24         13.83   \n",
              "1    Baked Potato          250 g        674.68       20.96          39.1   \n",
              "2  Crispy Chicken          177 g         178 g       179 g         180 g   \n",
              "3           Donut          177 g         178 g       179 g         180 g   \n",
              "4           Fries          177 g         178 g       179 g         180 g   \n",
              "5         Hot Dog          177 g         178 g       179 g         180 g   \n",
              "6           Pizza          177 g         178 g       179 g         180 g   \n",
              "7        Sandwich          177 g         178 g       179 g         180 g   \n",
              "8            Taco          177 g         178 g       179 g         180 g   \n",
              "9         Taquito          177 g         178 g       179 g         180 g   \n",
              "\n",
              "  Sat Fat (g) Trans fat (g) Cholesterols (mg) Total carbohydrate (g)  \\\n",
              "0        5.34          0.16              2.49                  56.54   \n",
              "1       19.73          0.26             40.93                  59.27   \n",
              "2       181 g         182 g             183 g                  184 g   \n",
              "3       181 g         182 g             183 g                  184 g   \n",
              "4       181 g         182 g             183 g                  184 g   \n",
              "5       181 g         182 g             183 g                  184 g   \n",
              "6       181 g         182 g             183 g                  184 g   \n",
              "7       181 g         182 g             183 g                  184 g   \n",
              "8       181 g         182 g             183 g                  184 g   \n",
              "9       181 g         182 g             183 g                  184 g   \n",
              "\n",
              "  Total Sugars (g) Added Sugars (g) Sodium (mg)  \n",
              "0              7.9             4.49      706.13  \n",
              "1              3.5             1.08     1087.46  \n",
              "2            185 g            186 g       187 g  \n",
              "3            185 g            186 g       187 g  \n",
              "4            185 g            186 g       187 g  \n",
              "5            185 g            186 g       187 g  \n",
              "6            185 g            186 g       187 g  \n",
              "7            185 g            186 g       187 g  \n",
              "8            185 g            186 g       187 g  \n",
              "9            185 g            186 g       187 g  "
            ],
            "text/html": [
              "\n",
              "  <div id=\"df-4ac86dcc-c79b-46b5-91f6-253699f88c35\">\n",
              "    <div class=\"colab-df-container\">\n",
              "      <div>\n",
              "<style scoped>\n",
              "    .dataframe tbody tr th:only-of-type {\n",
              "        vertical-align: middle;\n",
              "    }\n",
              "\n",
              "    .dataframe tbody tr th {\n",
              "        vertical-align: top;\n",
              "    }\n",
              "\n",
              "    .dataframe thead th {\n",
              "        text-align: right;\n",
              "    }\n",
              "</style>\n",
              "<table border=\"1\" class=\"dataframe\">\n",
              "  <thead>\n",
              "    <tr style=\"text-align: right;\">\n",
              "      <th></th>\n",
              "      <th>Items</th>\n",
              "      <th>Per Serve Size</th>\n",
              "      <th>Energy (kCal)</th>\n",
              "      <th>Protein (g)</th>\n",
              "      <th>Total fat (g)</th>\n",
              "      <th>Sat Fat (g)</th>\n",
              "      <th>Trans fat (g)</th>\n",
              "      <th>Cholesterols (mg)</th>\n",
              "      <th>Total carbohydrate (g)</th>\n",
              "      <th>Total Sugars (g)</th>\n",
              "      <th>Added Sugars (g)</th>\n",
              "      <th>Sodium (mg)</th>\n",
              "    </tr>\n",
              "  </thead>\n",
              "  <tbody>\n",
              "    <tr>\n",
              "      <th>0</th>\n",
              "      <td>Burger</td>\n",
              "      <td>168 g</td>\n",
              "      <td>402.05</td>\n",
              "      <td>10.24</td>\n",
              "      <td>13.83</td>\n",
              "      <td>5.34</td>\n",
              "      <td>0.16</td>\n",
              "      <td>2.49</td>\n",
              "      <td>56.54</td>\n",
              "      <td>7.9</td>\n",
              "      <td>4.49</td>\n",
              "      <td>706.13</td>\n",
              "    </tr>\n",
              "    <tr>\n",
              "      <th>1</th>\n",
              "      <td>Baked Potato</td>\n",
              "      <td>250 g</td>\n",
              "      <td>674.68</td>\n",
              "      <td>20.96</td>\n",
              "      <td>39.1</td>\n",
              "      <td>19.73</td>\n",
              "      <td>0.26</td>\n",
              "      <td>40.93</td>\n",
              "      <td>59.27</td>\n",
              "      <td>3.5</td>\n",
              "      <td>1.08</td>\n",
              "      <td>1087.46</td>\n",
              "    </tr>\n",
              "    <tr>\n",
              "      <th>2</th>\n",
              "      <td>Crispy Chicken</td>\n",
              "      <td>177 g</td>\n",
              "      <td>178 g</td>\n",
              "      <td>179 g</td>\n",
              "      <td>180 g</td>\n",
              "      <td>181 g</td>\n",
              "      <td>182 g</td>\n",
              "      <td>183 g</td>\n",
              "      <td>184 g</td>\n",
              "      <td>185 g</td>\n",
              "      <td>186 g</td>\n",
              "      <td>187 g</td>\n",
              "    </tr>\n",
              "    <tr>\n",
              "      <th>3</th>\n",
              "      <td>Donut</td>\n",
              "      <td>177 g</td>\n",
              "      <td>178 g</td>\n",
              "      <td>179 g</td>\n",
              "      <td>180 g</td>\n",
              "      <td>181 g</td>\n",
              "      <td>182 g</td>\n",
              "      <td>183 g</td>\n",
              "      <td>184 g</td>\n",
              "      <td>185 g</td>\n",
              "      <td>186 g</td>\n",
              "      <td>187 g</td>\n",
              "    </tr>\n",
              "    <tr>\n",
              "      <th>4</th>\n",
              "      <td>Fries</td>\n",
              "      <td>177 g</td>\n",
              "      <td>178 g</td>\n",
              "      <td>179 g</td>\n",
              "      <td>180 g</td>\n",
              "      <td>181 g</td>\n",
              "      <td>182 g</td>\n",
              "      <td>183 g</td>\n",
              "      <td>184 g</td>\n",
              "      <td>185 g</td>\n",
              "      <td>186 g</td>\n",
              "      <td>187 g</td>\n",
              "    </tr>\n",
              "    <tr>\n",
              "      <th>5</th>\n",
              "      <td>Hot Dog</td>\n",
              "      <td>177 g</td>\n",
              "      <td>178 g</td>\n",
              "      <td>179 g</td>\n",
              "      <td>180 g</td>\n",
              "      <td>181 g</td>\n",
              "      <td>182 g</td>\n",
              "      <td>183 g</td>\n",
              "      <td>184 g</td>\n",
              "      <td>185 g</td>\n",
              "      <td>186 g</td>\n",
              "      <td>187 g</td>\n",
              "    </tr>\n",
              "    <tr>\n",
              "      <th>6</th>\n",
              "      <td>Pizza</td>\n",
              "      <td>177 g</td>\n",
              "      <td>178 g</td>\n",
              "      <td>179 g</td>\n",
              "      <td>180 g</td>\n",
              "      <td>181 g</td>\n",
              "      <td>182 g</td>\n",
              "      <td>183 g</td>\n",
              "      <td>184 g</td>\n",
              "      <td>185 g</td>\n",
              "      <td>186 g</td>\n",
              "      <td>187 g</td>\n",
              "    </tr>\n",
              "    <tr>\n",
              "      <th>7</th>\n",
              "      <td>Sandwich</td>\n",
              "      <td>177 g</td>\n",
              "      <td>178 g</td>\n",
              "      <td>179 g</td>\n",
              "      <td>180 g</td>\n",
              "      <td>181 g</td>\n",
              "      <td>182 g</td>\n",
              "      <td>183 g</td>\n",
              "      <td>184 g</td>\n",
              "      <td>185 g</td>\n",
              "      <td>186 g</td>\n",
              "      <td>187 g</td>\n",
              "    </tr>\n",
              "    <tr>\n",
              "      <th>8</th>\n",
              "      <td>Taco</td>\n",
              "      <td>177 g</td>\n",
              "      <td>178 g</td>\n",
              "      <td>179 g</td>\n",
              "      <td>180 g</td>\n",
              "      <td>181 g</td>\n",
              "      <td>182 g</td>\n",
              "      <td>183 g</td>\n",
              "      <td>184 g</td>\n",
              "      <td>185 g</td>\n",
              "      <td>186 g</td>\n",
              "      <td>187 g</td>\n",
              "    </tr>\n",
              "    <tr>\n",
              "      <th>9</th>\n",
              "      <td>Taquito</td>\n",
              "      <td>177 g</td>\n",
              "      <td>178 g</td>\n",
              "      <td>179 g</td>\n",
              "      <td>180 g</td>\n",
              "      <td>181 g</td>\n",
              "      <td>182 g</td>\n",
              "      <td>183 g</td>\n",
              "      <td>184 g</td>\n",
              "      <td>185 g</td>\n",
              "      <td>186 g</td>\n",
              "      <td>187 g</td>\n",
              "    </tr>\n",
              "  </tbody>\n",
              "</table>\n",
              "</div>\n",
              "      <button class=\"colab-df-convert\" onclick=\"convertToInteractive('df-4ac86dcc-c79b-46b5-91f6-253699f88c35')\"\n",
              "              title=\"Convert this dataframe to an interactive table.\"\n",
              "              style=\"display:none;\">\n",
              "        \n",
              "  <svg xmlns=\"http://www.w3.org/2000/svg\" height=\"24px\"viewBox=\"0 0 24 24\"\n",
              "       width=\"24px\">\n",
              "    <path d=\"M0 0h24v24H0V0z\" fill=\"none\"/>\n",
              "    <path d=\"M18.56 5.44l.94 2.06.94-2.06 2.06-.94-2.06-.94-.94-2.06-.94 2.06-2.06.94zm-11 1L8.5 8.5l.94-2.06 2.06-.94-2.06-.94L8.5 2.5l-.94 2.06-2.06.94zm10 10l.94 2.06.94-2.06 2.06-.94-2.06-.94-.94-2.06-.94 2.06-2.06.94z\"/><path d=\"M17.41 7.96l-1.37-1.37c-.4-.4-.92-.59-1.43-.59-.52 0-1.04.2-1.43.59L10.3 9.45l-7.72 7.72c-.78.78-.78 2.05 0 2.83L4 21.41c.39.39.9.59 1.41.59.51 0 1.02-.2 1.41-.59l7.78-7.78 2.81-2.81c.8-.78.8-2.07 0-2.86zM5.41 20L4 18.59l7.72-7.72 1.47 1.35L5.41 20z\"/>\n",
              "  </svg>\n",
              "      </button>\n",
              "      \n",
              "  <style>\n",
              "    .colab-df-container {\n",
              "      display:flex;\n",
              "      flex-wrap:wrap;\n",
              "      gap: 12px;\n",
              "    }\n",
              "\n",
              "    .colab-df-convert {\n",
              "      background-color: #E8F0FE;\n",
              "      border: none;\n",
              "      border-radius: 50%;\n",
              "      cursor: pointer;\n",
              "      display: none;\n",
              "      fill: #1967D2;\n",
              "      height: 32px;\n",
              "      padding: 0 0 0 0;\n",
              "      width: 32px;\n",
              "    }\n",
              "\n",
              "    .colab-df-convert:hover {\n",
              "      background-color: #E2EBFA;\n",
              "      box-shadow: 0px 1px 2px rgba(60, 64, 67, 0.3), 0px 1px 3px 1px rgba(60, 64, 67, 0.15);\n",
              "      fill: #174EA6;\n",
              "    }\n",
              "\n",
              "    [theme=dark] .colab-df-convert {\n",
              "      background-color: #3B4455;\n",
              "      fill: #D2E3FC;\n",
              "    }\n",
              "\n",
              "    [theme=dark] .colab-df-convert:hover {\n",
              "      background-color: #434B5C;\n",
              "      box-shadow: 0px 1px 3px 1px rgba(0, 0, 0, 0.15);\n",
              "      filter: drop-shadow(0px 1px 2px rgba(0, 0, 0, 0.3));\n",
              "      fill: #FFFFFF;\n",
              "    }\n",
              "  </style>\n",
              "\n",
              "      <script>\n",
              "        const buttonEl =\n",
              "          document.querySelector('#df-4ac86dcc-c79b-46b5-91f6-253699f88c35 button.colab-df-convert');\n",
              "        buttonEl.style.display =\n",
              "          google.colab.kernel.accessAllowed ? 'block' : 'none';\n",
              "\n",
              "        async function convertToInteractive(key) {\n",
              "          const element = document.querySelector('#df-4ac86dcc-c79b-46b5-91f6-253699f88c35');\n",
              "          const dataTable =\n",
              "            await google.colab.kernel.invokeFunction('convertToInteractive',\n",
              "                                                     [key], {});\n",
              "          if (!dataTable) return;\n",
              "\n",
              "          const docLinkHtml = 'Like what you see? Visit the ' +\n",
              "            '<a target=\"_blank\" href=https://colab.research.google.com/notebooks/data_table.ipynb>data table notebook</a>'\n",
              "            + ' to learn more about interactive tables.';\n",
              "          element.innerHTML = '';\n",
              "          dataTable['output_type'] = 'display_data';\n",
              "          await google.colab.output.renderOutput(dataTable, element);\n",
              "          const docLink = document.createElement('div');\n",
              "          docLink.innerHTML = docLinkHtml;\n",
              "          element.appendChild(docLink);\n",
              "        }\n",
              "      </script>\n",
              "    </div>\n",
              "  </div>\n",
              "  "
            ]
          },
          "metadata": {},
          "execution_count": 53
        }
      ]
    },
    {
      "cell_type": "code",
      "source": [
        "Foodh1 = df1.groupby('Items')"
      ],
      "metadata": {
        "id": "_SdUQQtUJVgQ"
      },
      "execution_count": null,
      "outputs": []
    },
    {
      "cell_type": "code",
      "source": [
        "Foodh1.first()"
      ],
      "metadata": {
        "colab": {
          "base_uri": "https://localhost:8080/",
          "height": 490
        },
        "id": "xR3zIlZaJWzk",
        "outputId": "784df7ac-d2a2-4843-f1fb-b6979e17cb84"
      },
      "execution_count": null,
      "outputs": [
        {
          "output_type": "execute_result",
          "data": {
            "text/plain": [
              "               Per Serve Size Energy (kCal) Protein (g) Total fat (g)  \\\n",
              "Items                                                                   \n",
              "Baked Potato            250 g        674.68       20.96          39.1   \n",
              "Burger                  168 g        402.05       10.24         13.83   \n",
              "Crispy Chicken          177 g         178 g       179 g         180 g   \n",
              "Donut                   177 g         178 g       179 g         180 g   \n",
              "Fries                   177 g         178 g       179 g         180 g   \n",
              "Hot Dog                 177 g         178 g       179 g         180 g   \n",
              "Pizza                   177 g         178 g       179 g         180 g   \n",
              "Sandwich                177 g         178 g       179 g         180 g   \n",
              "Taco                    177 g         178 g       179 g         180 g   \n",
              "Taquito                 177 g         178 g       179 g         180 g   \n",
              "\n",
              "               Sat Fat (g) Trans fat (g) Cholesterols (mg)  \\\n",
              "Items                                                        \n",
              "Baked Potato         19.73          0.26             40.93   \n",
              "Burger                5.34          0.16              2.49   \n",
              "Crispy Chicken       181 g         182 g             183 g   \n",
              "Donut                181 g         182 g             183 g   \n",
              "Fries                181 g         182 g             183 g   \n",
              "Hot Dog              181 g         182 g             183 g   \n",
              "Pizza                181 g         182 g             183 g   \n",
              "Sandwich             181 g         182 g             183 g   \n",
              "Taco                 181 g         182 g             183 g   \n",
              "Taquito              181 g         182 g             183 g   \n",
              "\n",
              "               Total carbohydrate (g) Total Sugars (g) Added Sugars (g)  \\\n",
              "Items                                                                     \n",
              "Baked Potato                    59.27              3.5             1.08   \n",
              "Burger                          56.54              7.9             4.49   \n",
              "Crispy Chicken                  184 g            185 g            186 g   \n",
              "Donut                           184 g            185 g            186 g   \n",
              "Fries                           184 g            185 g            186 g   \n",
              "Hot Dog                         184 g            185 g            186 g   \n",
              "Pizza                           184 g            185 g            186 g   \n",
              "Sandwich                        184 g            185 g            186 g   \n",
              "Taco                            184 g            185 g            186 g   \n",
              "Taquito                         184 g            185 g            186 g   \n",
              "\n",
              "               Sodium (mg)  \n",
              "Items                       \n",
              "Baked Potato       1087.46  \n",
              "Burger              706.13  \n",
              "Crispy Chicken       187 g  \n",
              "Donut                187 g  \n",
              "Fries                187 g  \n",
              "Hot Dog              187 g  \n",
              "Pizza                187 g  \n",
              "Sandwich             187 g  \n",
              "Taco                 187 g  \n",
              "Taquito              187 g  "
            ],
            "text/html": [
              "\n",
              "  <div id=\"df-260229c9-4f2a-4843-a5be-976cb8aac24e\">\n",
              "    <div class=\"colab-df-container\">\n",
              "      <div>\n",
              "<style scoped>\n",
              "    .dataframe tbody tr th:only-of-type {\n",
              "        vertical-align: middle;\n",
              "    }\n",
              "\n",
              "    .dataframe tbody tr th {\n",
              "        vertical-align: top;\n",
              "    }\n",
              "\n",
              "    .dataframe thead th {\n",
              "        text-align: right;\n",
              "    }\n",
              "</style>\n",
              "<table border=\"1\" class=\"dataframe\">\n",
              "  <thead>\n",
              "    <tr style=\"text-align: right;\">\n",
              "      <th></th>\n",
              "      <th>Per Serve Size</th>\n",
              "      <th>Energy (kCal)</th>\n",
              "      <th>Protein (g)</th>\n",
              "      <th>Total fat (g)</th>\n",
              "      <th>Sat Fat (g)</th>\n",
              "      <th>Trans fat (g)</th>\n",
              "      <th>Cholesterols (mg)</th>\n",
              "      <th>Total carbohydrate (g)</th>\n",
              "      <th>Total Sugars (g)</th>\n",
              "      <th>Added Sugars (g)</th>\n",
              "      <th>Sodium (mg)</th>\n",
              "    </tr>\n",
              "    <tr>\n",
              "      <th>Items</th>\n",
              "      <th></th>\n",
              "      <th></th>\n",
              "      <th></th>\n",
              "      <th></th>\n",
              "      <th></th>\n",
              "      <th></th>\n",
              "      <th></th>\n",
              "      <th></th>\n",
              "      <th></th>\n",
              "      <th></th>\n",
              "      <th></th>\n",
              "    </tr>\n",
              "  </thead>\n",
              "  <tbody>\n",
              "    <tr>\n",
              "      <th>Baked Potato</th>\n",
              "      <td>250 g</td>\n",
              "      <td>674.68</td>\n",
              "      <td>20.96</td>\n",
              "      <td>39.1</td>\n",
              "      <td>19.73</td>\n",
              "      <td>0.26</td>\n",
              "      <td>40.93</td>\n",
              "      <td>59.27</td>\n",
              "      <td>3.5</td>\n",
              "      <td>1.08</td>\n",
              "      <td>1087.46</td>\n",
              "    </tr>\n",
              "    <tr>\n",
              "      <th>Burger</th>\n",
              "      <td>168 g</td>\n",
              "      <td>402.05</td>\n",
              "      <td>10.24</td>\n",
              "      <td>13.83</td>\n",
              "      <td>5.34</td>\n",
              "      <td>0.16</td>\n",
              "      <td>2.49</td>\n",
              "      <td>56.54</td>\n",
              "      <td>7.9</td>\n",
              "      <td>4.49</td>\n",
              "      <td>706.13</td>\n",
              "    </tr>\n",
              "    <tr>\n",
              "      <th>Crispy Chicken</th>\n",
              "      <td>177 g</td>\n",
              "      <td>178 g</td>\n",
              "      <td>179 g</td>\n",
              "      <td>180 g</td>\n",
              "      <td>181 g</td>\n",
              "      <td>182 g</td>\n",
              "      <td>183 g</td>\n",
              "      <td>184 g</td>\n",
              "      <td>185 g</td>\n",
              "      <td>186 g</td>\n",
              "      <td>187 g</td>\n",
              "    </tr>\n",
              "    <tr>\n",
              "      <th>Donut</th>\n",
              "      <td>177 g</td>\n",
              "      <td>178 g</td>\n",
              "      <td>179 g</td>\n",
              "      <td>180 g</td>\n",
              "      <td>181 g</td>\n",
              "      <td>182 g</td>\n",
              "      <td>183 g</td>\n",
              "      <td>184 g</td>\n",
              "      <td>185 g</td>\n",
              "      <td>186 g</td>\n",
              "      <td>187 g</td>\n",
              "    </tr>\n",
              "    <tr>\n",
              "      <th>Fries</th>\n",
              "      <td>177 g</td>\n",
              "      <td>178 g</td>\n",
              "      <td>179 g</td>\n",
              "      <td>180 g</td>\n",
              "      <td>181 g</td>\n",
              "      <td>182 g</td>\n",
              "      <td>183 g</td>\n",
              "      <td>184 g</td>\n",
              "      <td>185 g</td>\n",
              "      <td>186 g</td>\n",
              "      <td>187 g</td>\n",
              "    </tr>\n",
              "    <tr>\n",
              "      <th>Hot Dog</th>\n",
              "      <td>177 g</td>\n",
              "      <td>178 g</td>\n",
              "      <td>179 g</td>\n",
              "      <td>180 g</td>\n",
              "      <td>181 g</td>\n",
              "      <td>182 g</td>\n",
              "      <td>183 g</td>\n",
              "      <td>184 g</td>\n",
              "      <td>185 g</td>\n",
              "      <td>186 g</td>\n",
              "      <td>187 g</td>\n",
              "    </tr>\n",
              "    <tr>\n",
              "      <th>Pizza</th>\n",
              "      <td>177 g</td>\n",
              "      <td>178 g</td>\n",
              "      <td>179 g</td>\n",
              "      <td>180 g</td>\n",
              "      <td>181 g</td>\n",
              "      <td>182 g</td>\n",
              "      <td>183 g</td>\n",
              "      <td>184 g</td>\n",
              "      <td>185 g</td>\n",
              "      <td>186 g</td>\n",
              "      <td>187 g</td>\n",
              "    </tr>\n",
              "    <tr>\n",
              "      <th>Sandwich</th>\n",
              "      <td>177 g</td>\n",
              "      <td>178 g</td>\n",
              "      <td>179 g</td>\n",
              "      <td>180 g</td>\n",
              "      <td>181 g</td>\n",
              "      <td>182 g</td>\n",
              "      <td>183 g</td>\n",
              "      <td>184 g</td>\n",
              "      <td>185 g</td>\n",
              "      <td>186 g</td>\n",
              "      <td>187 g</td>\n",
              "    </tr>\n",
              "    <tr>\n",
              "      <th>Taco</th>\n",
              "      <td>177 g</td>\n",
              "      <td>178 g</td>\n",
              "      <td>179 g</td>\n",
              "      <td>180 g</td>\n",
              "      <td>181 g</td>\n",
              "      <td>182 g</td>\n",
              "      <td>183 g</td>\n",
              "      <td>184 g</td>\n",
              "      <td>185 g</td>\n",
              "      <td>186 g</td>\n",
              "      <td>187 g</td>\n",
              "    </tr>\n",
              "    <tr>\n",
              "      <th>Taquito</th>\n",
              "      <td>177 g</td>\n",
              "      <td>178 g</td>\n",
              "      <td>179 g</td>\n",
              "      <td>180 g</td>\n",
              "      <td>181 g</td>\n",
              "      <td>182 g</td>\n",
              "      <td>183 g</td>\n",
              "      <td>184 g</td>\n",
              "      <td>185 g</td>\n",
              "      <td>186 g</td>\n",
              "      <td>187 g</td>\n",
              "    </tr>\n",
              "  </tbody>\n",
              "</table>\n",
              "</div>\n",
              "      <button class=\"colab-df-convert\" onclick=\"convertToInteractive('df-260229c9-4f2a-4843-a5be-976cb8aac24e')\"\n",
              "              title=\"Convert this dataframe to an interactive table.\"\n",
              "              style=\"display:none;\">\n",
              "        \n",
              "  <svg xmlns=\"http://www.w3.org/2000/svg\" height=\"24px\"viewBox=\"0 0 24 24\"\n",
              "       width=\"24px\">\n",
              "    <path d=\"M0 0h24v24H0V0z\" fill=\"none\"/>\n",
              "    <path d=\"M18.56 5.44l.94 2.06.94-2.06 2.06-.94-2.06-.94-.94-2.06-.94 2.06-2.06.94zm-11 1L8.5 8.5l.94-2.06 2.06-.94-2.06-.94L8.5 2.5l-.94 2.06-2.06.94zm10 10l.94 2.06.94-2.06 2.06-.94-2.06-.94-.94-2.06-.94 2.06-2.06.94z\"/><path d=\"M17.41 7.96l-1.37-1.37c-.4-.4-.92-.59-1.43-.59-.52 0-1.04.2-1.43.59L10.3 9.45l-7.72 7.72c-.78.78-.78 2.05 0 2.83L4 21.41c.39.39.9.59 1.41.59.51 0 1.02-.2 1.41-.59l7.78-7.78 2.81-2.81c.8-.78.8-2.07 0-2.86zM5.41 20L4 18.59l7.72-7.72 1.47 1.35L5.41 20z\"/>\n",
              "  </svg>\n",
              "      </button>\n",
              "      \n",
              "  <style>\n",
              "    .colab-df-container {\n",
              "      display:flex;\n",
              "      flex-wrap:wrap;\n",
              "      gap: 12px;\n",
              "    }\n",
              "\n",
              "    .colab-df-convert {\n",
              "      background-color: #E8F0FE;\n",
              "      border: none;\n",
              "      border-radius: 50%;\n",
              "      cursor: pointer;\n",
              "      display: none;\n",
              "      fill: #1967D2;\n",
              "      height: 32px;\n",
              "      padding: 0 0 0 0;\n",
              "      width: 32px;\n",
              "    }\n",
              "\n",
              "    .colab-df-convert:hover {\n",
              "      background-color: #E2EBFA;\n",
              "      box-shadow: 0px 1px 2px rgba(60, 64, 67, 0.3), 0px 1px 3px 1px rgba(60, 64, 67, 0.15);\n",
              "      fill: #174EA6;\n",
              "    }\n",
              "\n",
              "    [theme=dark] .colab-df-convert {\n",
              "      background-color: #3B4455;\n",
              "      fill: #D2E3FC;\n",
              "    }\n",
              "\n",
              "    [theme=dark] .colab-df-convert:hover {\n",
              "      background-color: #434B5C;\n",
              "      box-shadow: 0px 1px 3px 1px rgba(0, 0, 0, 0.15);\n",
              "      filter: drop-shadow(0px 1px 2px rgba(0, 0, 0, 0.3));\n",
              "      fill: #FFFFFF;\n",
              "    }\n",
              "  </style>\n",
              "\n",
              "      <script>\n",
              "        const buttonEl =\n",
              "          document.querySelector('#df-260229c9-4f2a-4843-a5be-976cb8aac24e button.colab-df-convert');\n",
              "        buttonEl.style.display =\n",
              "          google.colab.kernel.accessAllowed ? 'block' : 'none';\n",
              "\n",
              "        async function convertToInteractive(key) {\n",
              "          const element = document.querySelector('#df-260229c9-4f2a-4843-a5be-976cb8aac24e');\n",
              "          const dataTable =\n",
              "            await google.colab.kernel.invokeFunction('convertToInteractive',\n",
              "                                                     [key], {});\n",
              "          if (!dataTable) return;\n",
              "\n",
              "          const docLinkHtml = 'Like what you see? Visit the ' +\n",
              "            '<a target=\"_blank\" href=https://colab.research.google.com/notebooks/data_table.ipynb>data table notebook</a>'\n",
              "            + ' to learn more about interactive tables.';\n",
              "          element.innerHTML = '';\n",
              "          dataTable['output_type'] = 'display_data';\n",
              "          await google.colab.output.renderOutput(dataTable, element);\n",
              "          const docLink = document.createElement('div');\n",
              "          docLink.innerHTML = docLinkHtml;\n",
              "          element.appendChild(docLink);\n",
              "        }\n",
              "      </script>\n",
              "    </div>\n",
              "  </div>\n",
              "  "
            ]
          },
          "metadata": {},
          "execution_count": 55
        }
      ]
    },
    {
      "cell_type": "code",
      "source": [
        "Foodh1.get_group(food)"
      ],
      "metadata": {
        "colab": {
          "base_uri": "https://localhost:8080/",
          "height": 142
        },
        "id": "hGIPNAawJX6y",
        "outputId": "4c9b4b0d-5341-44ea-a640-7c558ba4f6ba"
      },
      "execution_count": null,
      "outputs": [
        {
          "output_type": "execute_result",
          "data": {
            "text/plain": [
              "   Items Per Serve Size Energy (kCal) Protein (g) Total fat (g) Sat Fat (g)  \\\n",
              "4  Fries          177 g         178 g       179 g         180 g       181 g   \n",
              "\n",
              "  Trans fat (g) Cholesterols (mg) Total carbohydrate (g) Total Sugars (g)  \\\n",
              "4         182 g             183 g                  184 g            185 g   \n",
              "\n",
              "  Added Sugars (g) Sodium (mg)  \n",
              "4            186 g       187 g  "
            ],
            "text/html": [
              "\n",
              "  <div id=\"df-c628600f-dea6-4f05-97be-c19a7bda070c\">\n",
              "    <div class=\"colab-df-container\">\n",
              "      <div>\n",
              "<style scoped>\n",
              "    .dataframe tbody tr th:only-of-type {\n",
              "        vertical-align: middle;\n",
              "    }\n",
              "\n",
              "    .dataframe tbody tr th {\n",
              "        vertical-align: top;\n",
              "    }\n",
              "\n",
              "    .dataframe thead th {\n",
              "        text-align: right;\n",
              "    }\n",
              "</style>\n",
              "<table border=\"1\" class=\"dataframe\">\n",
              "  <thead>\n",
              "    <tr style=\"text-align: right;\">\n",
              "      <th></th>\n",
              "      <th>Items</th>\n",
              "      <th>Per Serve Size</th>\n",
              "      <th>Energy (kCal)</th>\n",
              "      <th>Protein (g)</th>\n",
              "      <th>Total fat (g)</th>\n",
              "      <th>Sat Fat (g)</th>\n",
              "      <th>Trans fat (g)</th>\n",
              "      <th>Cholesterols (mg)</th>\n",
              "      <th>Total carbohydrate (g)</th>\n",
              "      <th>Total Sugars (g)</th>\n",
              "      <th>Added Sugars (g)</th>\n",
              "      <th>Sodium (mg)</th>\n",
              "    </tr>\n",
              "  </thead>\n",
              "  <tbody>\n",
              "    <tr>\n",
              "      <th>4</th>\n",
              "      <td>Fries</td>\n",
              "      <td>177 g</td>\n",
              "      <td>178 g</td>\n",
              "      <td>179 g</td>\n",
              "      <td>180 g</td>\n",
              "      <td>181 g</td>\n",
              "      <td>182 g</td>\n",
              "      <td>183 g</td>\n",
              "      <td>184 g</td>\n",
              "      <td>185 g</td>\n",
              "      <td>186 g</td>\n",
              "      <td>187 g</td>\n",
              "    </tr>\n",
              "  </tbody>\n",
              "</table>\n",
              "</div>\n",
              "      <button class=\"colab-df-convert\" onclick=\"convertToInteractive('df-c628600f-dea6-4f05-97be-c19a7bda070c')\"\n",
              "              title=\"Convert this dataframe to an interactive table.\"\n",
              "              style=\"display:none;\">\n",
              "        \n",
              "  <svg xmlns=\"http://www.w3.org/2000/svg\" height=\"24px\"viewBox=\"0 0 24 24\"\n",
              "       width=\"24px\">\n",
              "    <path d=\"M0 0h24v24H0V0z\" fill=\"none\"/>\n",
              "    <path d=\"M18.56 5.44l.94 2.06.94-2.06 2.06-.94-2.06-.94-.94-2.06-.94 2.06-2.06.94zm-11 1L8.5 8.5l.94-2.06 2.06-.94-2.06-.94L8.5 2.5l-.94 2.06-2.06.94zm10 10l.94 2.06.94-2.06 2.06-.94-2.06-.94-.94-2.06-.94 2.06-2.06.94z\"/><path d=\"M17.41 7.96l-1.37-1.37c-.4-.4-.92-.59-1.43-.59-.52 0-1.04.2-1.43.59L10.3 9.45l-7.72 7.72c-.78.78-.78 2.05 0 2.83L4 21.41c.39.39.9.59 1.41.59.51 0 1.02-.2 1.41-.59l7.78-7.78 2.81-2.81c.8-.78.8-2.07 0-2.86zM5.41 20L4 18.59l7.72-7.72 1.47 1.35L5.41 20z\"/>\n",
              "  </svg>\n",
              "      </button>\n",
              "      \n",
              "  <style>\n",
              "    .colab-df-container {\n",
              "      display:flex;\n",
              "      flex-wrap:wrap;\n",
              "      gap: 12px;\n",
              "    }\n",
              "\n",
              "    .colab-df-convert {\n",
              "      background-color: #E8F0FE;\n",
              "      border: none;\n",
              "      border-radius: 50%;\n",
              "      cursor: pointer;\n",
              "      display: none;\n",
              "      fill: #1967D2;\n",
              "      height: 32px;\n",
              "      padding: 0 0 0 0;\n",
              "      width: 32px;\n",
              "    }\n",
              "\n",
              "    .colab-df-convert:hover {\n",
              "      background-color: #E2EBFA;\n",
              "      box-shadow: 0px 1px 2px rgba(60, 64, 67, 0.3), 0px 1px 3px 1px rgba(60, 64, 67, 0.15);\n",
              "      fill: #174EA6;\n",
              "    }\n",
              "\n",
              "    [theme=dark] .colab-df-convert {\n",
              "      background-color: #3B4455;\n",
              "      fill: #D2E3FC;\n",
              "    }\n",
              "\n",
              "    [theme=dark] .colab-df-convert:hover {\n",
              "      background-color: #434B5C;\n",
              "      box-shadow: 0px 1px 3px 1px rgba(0, 0, 0, 0.15);\n",
              "      filter: drop-shadow(0px 1px 2px rgba(0, 0, 0, 0.3));\n",
              "      fill: #FFFFFF;\n",
              "    }\n",
              "  </style>\n",
              "\n",
              "      <script>\n",
              "        const buttonEl =\n",
              "          document.querySelector('#df-c628600f-dea6-4f05-97be-c19a7bda070c button.colab-df-convert');\n",
              "        buttonEl.style.display =\n",
              "          google.colab.kernel.accessAllowed ? 'block' : 'none';\n",
              "\n",
              "        async function convertToInteractive(key) {\n",
              "          const element = document.querySelector('#df-c628600f-dea6-4f05-97be-c19a7bda070c');\n",
              "          const dataTable =\n",
              "            await google.colab.kernel.invokeFunction('convertToInteractive',\n",
              "                                                     [key], {});\n",
              "          if (!dataTable) return;\n",
              "\n",
              "          const docLinkHtml = 'Like what you see? Visit the ' +\n",
              "            '<a target=\"_blank\" href=https://colab.research.google.com/notebooks/data_table.ipynb>data table notebook</a>'\n",
              "            + ' to learn more about interactive tables.';\n",
              "          element.innerHTML = '';\n",
              "          dataTable['output_type'] = 'display_data';\n",
              "          await google.colab.output.renderOutput(dataTable, element);\n",
              "          const docLink = document.createElement('div');\n",
              "          docLink.innerHTML = docLinkHtml;\n",
              "          element.appendChild(docLink);\n",
              "        }\n",
              "      </script>\n",
              "    </div>\n",
              "  </div>\n",
              "  "
            ]
          },
          "metadata": {},
          "execution_count": 56
        }
      ]
    }
  ]
}